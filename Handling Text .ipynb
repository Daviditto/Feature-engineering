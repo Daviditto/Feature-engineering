{
 "cells": [
  {
   "cell_type": "markdown",
   "id": "aa74cc13-373b-4359-94e0-5fe67f5a76fc",
   "metadata": {},
   "source": [
    "# Cleaning Text"
   ]
  },
  {
   "cell_type": "code",
   "execution_count": 2,
   "id": "cf4b8bc4-e556-497e-a0e5-6dc603afefc2",
   "metadata": {},
   "outputs": [],
   "source": [
    "from matplotlib import pyplot as plt\n",
    "import pandas as pd\n",
    "import numpy as np\n",
    "%matplotlib inline"
   ]
  },
  {
   "cell_type": "code",
   "execution_count": 3,
   "id": "34ac90ef-6464-4716-be09-4836a6a8b485",
   "metadata": {},
   "outputs": [],
   "source": [
    "text_data = [\" Interrobang. By Aishwarya Henriette\",\n",
    "             \"Parking And Going. By Karl Gautier\", \n",
    "             \" Today Is The night. By Jarek Prakash\"]"
   ]
  },
  {
   "cell_type": "code",
   "execution_count": 4,
   "id": "0b55bb44-5313-41c2-ba9b-a7567774b8fe",
   "metadata": {},
   "outputs": [],
   "source": [
    "strip_data = [string.strip() for string in text_data]"
   ]
  },
  {
   "cell_type": "code",
   "execution_count": 5,
   "id": "5728cd4b-9531-4a93-9e47-33be69ba8135",
   "metadata": {},
   "outputs": [
    {
     "data": {
      "text/plain": [
       "['Interrobang. By Aishwarya Henriette',\n",
       " 'Parking And Going. By Karl Gautier',\n",
       " 'Today Is The night. By Jarek Prakash']"
      ]
     },
     "execution_count": 5,
     "metadata": {},
     "output_type": "execute_result"
    }
   ],
   "source": [
    "strip_data"
   ]
  },
  {
   "cell_type": "code",
   "execution_count": 6,
   "id": "27f610a1-64ff-4b15-a46b-32e5dc52749e",
   "metadata": {},
   "outputs": [],
   "source": [
    "new_data = [string.replace('.', '') for string in strip_data]"
   ]
  },
  {
   "cell_type": "code",
   "execution_count": 7,
   "id": "3c51357b-00fc-4407-9849-7205dff9f601",
   "metadata": {},
   "outputs": [
    {
     "data": {
      "text/plain": [
       "['Interrobang By Aishwarya Henriette',\n",
       " 'Parking And Going By Karl Gautier',\n",
       " 'Today Is The night By Jarek Prakash']"
      ]
     },
     "execution_count": 7,
     "metadata": {},
     "output_type": "execute_result"
    }
   ],
   "source": [
    "new_data"
   ]
  },
  {
   "cell_type": "code",
   "execution_count": 14,
   "id": "e82f0be7-ad54-4efe-a9a5-594af7639c5b",
   "metadata": {},
   "outputs": [],
   "source": [
    "def capitalize(x):\n",
    "    return x.title() # capitalize, upper, lower, "
   ]
  },
  {
   "cell_type": "code",
   "execution_count": 15,
   "id": "ef70a392-c798-4795-8218-25530e9ba47a",
   "metadata": {},
   "outputs": [],
   "source": [
    "capitalized = [capitalize(string) for string in new_data]"
   ]
  },
  {
   "cell_type": "code",
   "execution_count": 16,
   "id": "f5d5df25-dab4-4321-a097-0a2c8e0adf4d",
   "metadata": {},
   "outputs": [
    {
     "data": {
      "text/plain": [
       "['Interrobang By Aishwarya Henriette',\n",
       " 'Parking And Going By Karl Gautier',\n",
       " 'Today Is The Night By Jarek Prakash']"
      ]
     },
     "execution_count": 16,
     "metadata": {},
     "output_type": "execute_result"
    }
   ],
   "source": [
    "capitalized"
   ]
  },
  {
   "cell_type": "code",
   "execution_count": 17,
   "id": "b8dd1f66-a303-4346-a4f5-f8ab5118e661",
   "metadata": {},
   "outputs": [],
   "source": [
    "import re"
   ]
  },
  {
   "cell_type": "code",
   "execution_count": 21,
   "id": "2accf042-7eec-4831-9f1b-32405aaf38e1",
   "metadata": {},
   "outputs": [],
   "source": [
    "def sub_with_X(x):\n",
    "    return re.sub(r'[a-zA-Z]', 'X', x)"
   ]
  },
  {
   "cell_type": "code",
   "execution_count": 22,
   "id": "361dfc10-1647-4360-833a-e6a6a889e1c8",
   "metadata": {},
   "outputs": [],
   "source": [
    "replaced = [sub_with_X(string) for string in capitalized]"
   ]
  },
  {
   "cell_type": "code",
   "execution_count": 23,
   "id": "9f2ed36e-6c65-43a3-85ac-6cff02a87c15",
   "metadata": {},
   "outputs": [
    {
     "data": {
      "text/plain": [
       "['XXXXXXXXXXX XX XXXXXXXXX XXXXXXXXX',\n",
       " 'XXXXXXX XXX XXXXX XX XXXX XXXXXXX',\n",
       " 'XXXXX XX XXX XXXXX XX XXXXX XXXXXXX']"
      ]
     },
     "execution_count": 23,
     "metadata": {},
     "output_type": "execute_result"
    }
   ],
   "source": [
    "replaced"
   ]
  },
  {
   "cell_type": "code",
   "execution_count": null,
   "id": "4740b525-02e2-4ebe-a4ee-f4c69e351316",
   "metadata": {},
   "outputs": [],
   "source": []
  },
  {
   "cell_type": "code",
   "execution_count": null,
   "id": "d23eefb8-6987-47cd-b599-0167c1c00aaa",
   "metadata": {},
   "outputs": [],
   "source": []
  },
  {
   "cell_type": "markdown",
   "id": "b6e8189c-d2b3-4916-91c8-81b8bf8266aa",
   "metadata": {},
   "source": [
    "# Removing Punctuation"
   ]
  },
  {
   "cell_type": "code",
   "execution_count": 31,
   "id": "06e7d11f-7b32-43f5-8371-e8906f44357c",
   "metadata": {},
   "outputs": [],
   "source": [
    "import unicodedata"
   ]
  },
  {
   "cell_type": "code",
   "execution_count": 32,
   "id": "a79ad572-045e-41ab-a223-0106e835c629",
   "metadata": {},
   "outputs": [],
   "source": [
    "import sys"
   ]
  },
  {
   "cell_type": "code",
   "execution_count": 33,
   "id": "3b6d834a-a64b-4fb4-b298-0b89645c1abe",
   "metadata": {},
   "outputs": [],
   "source": [
    "text_data = ['Hi!!!! I. Love. This. Song....', '10000% Agree!!!! #LoveIT', 'Right?!?!']"
   ]
  },
  {
   "cell_type": "code",
   "execution_count": 35,
   "id": "1185bf80-69d7-4552-bafd-08d4283cd77d",
   "metadata": {},
   "outputs": [],
   "source": [
    "punctuation = dict.fromkeys(i for i in range(sys.maxunicode) if unicodedata.category(chr(i)).startswith('P'))"
   ]
  },
  {
   "cell_type": "code",
   "execution_count": 36,
   "id": "8c54215f-7b5e-4e6a-be8d-ee429987ca1b",
   "metadata": {},
   "outputs": [
    {
     "data": {
      "text/plain": [
       "['Hi I Love This Song', '10000 Agree LoveIT', 'Right']"
      ]
     },
     "execution_count": 36,
     "metadata": {},
     "output_type": "execute_result"
    }
   ],
   "source": [
    "[string.translate(punctuation) for string in text_data]"
   ]
  },
  {
   "cell_type": "markdown",
   "id": "ad899eaf-e0ab-4c13-9e8f-9505a58bdca5",
   "metadata": {},
   "source": [
    "# Tokenizing Text"
   ]
  },
  {
   "cell_type": "code",
   "execution_count": 37,
   "id": "42acf929-38f1-4f4f-aaf3-fc47e624c8c7",
   "metadata": {},
   "outputs": [],
   "source": [
    "from nltk.tokenize import word_tokenize"
   ]
  },
  {
   "cell_type": "code",
   "execution_count": 41,
   "id": "d2b08d6a-cf8c-44f3-a9ad-e3739166fca2",
   "metadata": {},
   "outputs": [],
   "source": [
    "import nltk"
   ]
  },
  {
   "cell_type": "code",
   "execution_count": 42,
   "id": "bd018119-bb96-4f33-b138-eb6726c81342",
   "metadata": {},
   "outputs": [
    {
     "name": "stderr",
     "output_type": "stream",
     "text": [
      "[nltk_data] Downloading package punkt to /Users/david/nltk_data...\n",
      "[nltk_data]   Unzipping tokenizers/punkt.zip.\n"
     ]
    },
    {
     "data": {
      "text/plain": [
       "True"
      ]
     },
     "execution_count": 42,
     "metadata": {},
     "output_type": "execute_result"
    }
   ],
   "source": [
    "nltk.download('punkt')"
   ]
  },
  {
   "cell_type": "code",
   "execution_count": 57,
   "id": "81e7a756-c2c7-4ca5-97aa-78254a264352",
   "metadata": {},
   "outputs": [],
   "source": [
    "string ='the science of today is the technology of tomorrow'"
   ]
  },
  {
   "cell_type": "code",
   "execution_count": 58,
   "id": "c5bea56b-7d3f-4461-9053-6a00f9a36f0c",
   "metadata": {},
   "outputs": [
    {
     "data": {
      "text/plain": [
       "['the', 'science', 'of', 'today', 'is', 'the', 'technology', 'of', 'tomorrow']"
      ]
     },
     "execution_count": 58,
     "metadata": {},
     "output_type": "execute_result"
    }
   ],
   "source": [
    "word_tokenize(string)"
   ]
  },
  {
   "cell_type": "code",
   "execution_count": 59,
   "id": "95f89b0c-0059-47da-966e-0be25043727d",
   "metadata": {},
   "outputs": [],
   "source": [
    "from nltk.tokenize import sent_tokenize"
   ]
  },
  {
   "cell_type": "code",
   "execution_count": 60,
   "id": "89cbd7a5-b7c8-4639-a7bf-3f3a89ef155e",
   "metadata": {},
   "outputs": [],
   "source": [
    "string = \"The science of today is the technology of tomorrow. Tomorrow is today.\""
   ]
  },
  {
   "cell_type": "code",
   "execution_count": 63,
   "id": "ddc3d30c-f485-4a18-a53e-d114cb1bb88f",
   "metadata": {},
   "outputs": [
    {
     "data": {
      "text/plain": [
       "['The science of today is the technology of tomorrow.', 'Tomorrow is today.']"
      ]
     },
     "execution_count": 63,
     "metadata": {},
     "output_type": "execute_result"
    }
   ],
   "source": [
    "two_ = sent_tokenize(string)\n",
    "two_"
   ]
  },
  {
   "cell_type": "code",
   "execution_count": 64,
   "id": "7b5400c6-353e-4a81-a424-0ce56d6151f1",
   "metadata": {},
   "outputs": [
    {
     "data": {
      "text/plain": [
       "['The science of today is the technology of tomorrow', 'Tomorrow is today']"
      ]
     },
     "execution_count": 64,
     "metadata": {},
     "output_type": "execute_result"
    }
   ],
   "source": [
    "[string.replace('.', '') for string in two_]"
   ]
  },
  {
   "cell_type": "markdown",
   "id": "509011a3-48de-466e-bad6-d2c2bc6dd7c0",
   "metadata": {},
   "source": [
    "# Removing Stop Words"
   ]
  },
  {
   "cell_type": "code",
   "execution_count": 65,
   "id": "0bcd512b-639b-4aa9-8a65-457246be1047",
   "metadata": {},
   "outputs": [],
   "source": [
    "from nltk.corpus import stopwords"
   ]
  },
  {
   "cell_type": "code",
   "execution_count": 69,
   "id": "d0c8c061-4999-4189-9403-3c4414ae0e0f",
   "metadata": {},
   "outputs": [
    {
     "name": "stderr",
     "output_type": "stream",
     "text": [
      "[nltk_data] Downloading package stopwords to /Users/david/nltk_data...\n",
      "[nltk_data]   Unzipping corpora/stopwords.zip.\n"
     ]
    },
    {
     "data": {
      "text/plain": [
       "True"
      ]
     },
     "execution_count": 69,
     "metadata": {},
     "output_type": "execute_result"
    }
   ],
   "source": [
    "nltk.download('stopwords')"
   ]
  },
  {
   "cell_type": "code",
   "execution_count": 70,
   "id": "eedbc014-2f11-4010-a03b-e92600950433",
   "metadata": {},
   "outputs": [],
   "source": [
    "tokenized_words = ['i','am', 'going', 'to', 'go', 'to', 'the', 'store', 'and', 'park']"
   ]
  },
  {
   "cell_type": "code",
   "execution_count": 71,
   "id": "1f978a11-9e5d-4853-9d4e-d9b243a867cf",
   "metadata": {},
   "outputs": [],
   "source": [
    "stop = stopwords.words('english')"
   ]
  },
  {
   "cell_type": "code",
   "execution_count": 74,
   "id": "c8e28a27-b0ce-4426-b516-145844951330",
   "metadata": {},
   "outputs": [
    {
     "data": {
      "text/plain": [
       "['going', 'go', 'store', 'park']"
      ]
     },
     "execution_count": 74,
     "metadata": {},
     "output_type": "execute_result"
    }
   ],
   "source": [
    "[word for word in tokenized_words if word not in stop]"
   ]
  },
  {
   "cell_type": "markdown",
   "id": "ec71b5ed-3418-4d26-a6b6-5fade3d94348",
   "metadata": {},
   "source": [
    "# Stemming Words"
   ]
  },
  {
   "cell_type": "code",
   "execution_count": 76,
   "id": "2b86cc93-326f-4a2e-bdd4-abfaccf54dd4",
   "metadata": {},
   "outputs": [],
   "source": [
    "from nltk.stem.porter import PorterStemmer"
   ]
  },
  {
   "cell_type": "code",
   "execution_count": 77,
   "id": "24b8059f-bd53-45ba-91e3-0142a9ff73ca",
   "metadata": {},
   "outputs": [],
   "source": [
    "tokenized_words = ['i', 'am', 'humbled', 'by', 'this', 'traditional', 'meeting']"
   ]
  },
  {
   "cell_type": "code",
   "execution_count": 78,
   "id": "64133069-d284-4bf7-af2a-7090379d8a9c",
   "metadata": {},
   "outputs": [],
   "source": [
    "model = PorterStemmer()"
   ]
  },
  {
   "cell_type": "code",
   "execution_count": 79,
   "id": "a45c578f-89a1-49f0-ac94-89be242bb5fc",
   "metadata": {},
   "outputs": [
    {
     "data": {
      "text/plain": [
       "['i', 'am', 'humbl', 'by', 'thi', 'tradit', 'meet']"
      ]
     },
     "execution_count": 79,
     "metadata": {},
     "output_type": "execute_result"
    }
   ],
   "source": [
    "[model.stem(word) for word in tokenized_words]"
   ]
  },
  {
   "cell_type": "markdown",
   "id": "5fe68cbc-13c1-4180-9d17-98f91f70cef1",
   "metadata": {
    "tags": []
   },
   "source": [
    "# Tagging Parts of Speech"
   ]
  },
  {
   "cell_type": "code",
   "execution_count": 80,
   "id": "b6d25ac5-0a76-478f-8598-c6e67f7464b2",
   "metadata": {},
   "outputs": [],
   "source": [
    "from nltk import pos_tag"
   ]
  },
  {
   "cell_type": "code",
   "execution_count": 81,
   "id": "8b3c0b97-c217-4957-9a5d-2357a6878f43",
   "metadata": {},
   "outputs": [],
   "source": [
    "from nltk import word_tokenize"
   ]
  },
  {
   "cell_type": "code",
   "execution_count": 84,
   "id": "3075fa0f-88c2-476d-ac90-c6e838a0eef5",
   "metadata": {},
   "outputs": [
    {
     "name": "stderr",
     "output_type": "stream",
     "text": [
      "[nltk_data] Downloading package averaged_perceptron_tagger to\n",
      "[nltk_data]     /Users/david/nltk_data...\n",
      "[nltk_data]   Unzipping taggers/averaged_perceptron_tagger.zip.\n"
     ]
    },
    {
     "data": {
      "text/plain": [
       "True"
      ]
     },
     "execution_count": 84,
     "metadata": {},
     "output_type": "execute_result"
    }
   ],
   "source": [
    "nltk.download('averaged_perceptron_tagger')"
   ]
  },
  {
   "cell_type": "code",
   "execution_count": 85,
   "id": "9e0e641f-206c-47ff-bee9-5716b6db6772",
   "metadata": {},
   "outputs": [],
   "source": [
    "text_data = \"Chris loved outdoor running\""
   ]
  },
  {
   "cell_type": "code",
   "execution_count": 87,
   "id": "bf6013f8-574b-41ef-85af-83be0a17999a",
   "metadata": {},
   "outputs": [],
   "source": [
    "tagged_text = pos_tag(word_tokenize(text_data))"
   ]
  },
  {
   "cell_type": "code",
   "execution_count": 88,
   "id": "2302f96e-cd5d-4cc4-8122-bf578cedcad6",
   "metadata": {},
   "outputs": [
    {
     "data": {
      "text/plain": [
       "['Chris']"
      ]
     },
     "execution_count": 88,
     "metadata": {},
     "output_type": "execute_result"
    }
   ],
   "source": [
    "[word for word,tag in tagged_text if tag in ['NN','NNS','NNP','NNPS']]"
   ]
  },
  {
   "cell_type": "code",
   "execution_count": null,
   "id": "d2ff639b-2210-42ca-a673-4bd67e9557a5",
   "metadata": {},
   "outputs": [],
   "source": []
  },
  {
   "cell_type": "code",
   "execution_count": null,
   "id": "78493a1f-a634-48df-b9c9-2db012972ad1",
   "metadata": {},
   "outputs": [],
   "source": []
  },
  {
   "cell_type": "code",
   "execution_count": 90,
   "id": "f0ab0e9c-0310-40a3-a52a-1773d0a38523",
   "metadata": {},
   "outputs": [],
   "source": [
    "tweets = [\"I am eating a burrito for breakfast\",\n",
    "          \"Political science is an amazing field\", \n",
    "          \"San Francisco is an awesome city\"]"
   ]
  },
  {
   "cell_type": "code",
   "execution_count": 92,
   "id": "662d5b58-a5cb-4bf0-b56d-e0b1d5b0b518",
   "metadata": {},
   "outputs": [],
   "source": [
    "tagged_tweets = []"
   ]
  },
  {
   "cell_type": "code",
   "execution_count": 93,
   "id": "b76c9326-ffa0-46f4-a3fa-57dd47dd1c31",
   "metadata": {},
   "outputs": [],
   "source": [
    "for tweet in tweets:\n",
    "    tweet_tag = pos_tag(word_tokenize(tweet))\n",
    "    tagged_tweets.append(tag for word, tag in tweet_tag)"
   ]
  },
  {
   "cell_type": "code",
   "execution_count": 96,
   "id": "331e9f1e-e703-4396-b411-784409a0f96c",
   "metadata": {},
   "outputs": [],
   "source": [
    "from sklearn.preprocessing import MultiLabelBinarizer"
   ]
  },
  {
   "cell_type": "code",
   "execution_count": 97,
   "id": "3cc0cb02-d406-4c8e-9a45-d6ac2baa45ec",
   "metadata": {},
   "outputs": [],
   "source": [
    "one_hot = MultiLabelBinarizer()"
   ]
  },
  {
   "cell_type": "code",
   "execution_count": 98,
   "id": "777d5cf5-e0af-4d5e-8ad2-de03e1972bfc",
   "metadata": {},
   "outputs": [
    {
     "data": {
      "text/plain": [
       "array([[1, 1, 0, 1, 0, 1, 1, 1, 0],\n",
       "       [1, 0, 1, 1, 0, 0, 0, 0, 1],\n",
       "       [1, 0, 1, 1, 1, 0, 0, 0, 1]])"
      ]
     },
     "execution_count": 98,
     "metadata": {},
     "output_type": "execute_result"
    }
   ],
   "source": [
    "one_hot.fit_transform(tagged_tweets)"
   ]
  },
  {
   "cell_type": "code",
   "execution_count": 99,
   "id": "8579ba30-8455-45ca-a9e8-6cc4ca917ec0",
   "metadata": {},
   "outputs": [
    {
     "data": {
      "text/plain": [
       "array(['DT', 'IN', 'JJ', 'NN', 'NNP', 'PRP', 'VBG', 'VBP', 'VBZ'],\n",
       "      dtype=object)"
      ]
     },
     "execution_count": 99,
     "metadata": {},
     "output_type": "execute_result"
    }
   ],
   "source": [
    "one_hot.classes_"
   ]
  },
  {
   "cell_type": "code",
   "execution_count": null,
   "id": "9199db64-592c-458e-b838-b6157db821a1",
   "metadata": {},
   "outputs": [],
   "source": []
  },
  {
   "cell_type": "code",
   "execution_count": null,
   "id": "22a89d73-f826-4d5f-a298-2e99a68a9db1",
   "metadata": {},
   "outputs": [],
   "source": []
  },
  {
   "cell_type": "code",
   "execution_count": 100,
   "id": "bedbbd85-0848-4941-9d54-d778efe0c464",
   "metadata": {},
   "outputs": [],
   "source": [
    "from nltk.corpus import brown \n",
    "from nltk.tag import UnigramTagger \n",
    "from nltk.tag import BigramTagger \n",
    "from nltk.tag import TrigramTagger"
   ]
  },
  {
   "cell_type": "code",
   "execution_count": 102,
   "id": "301d6536-a270-4859-a7d1-4dbb5de05ddf",
   "metadata": {},
   "outputs": [
    {
     "name": "stderr",
     "output_type": "stream",
     "text": [
      "[nltk_data] Downloading package brown to /Users/david/nltk_data...\n",
      "[nltk_data]   Unzipping corpora/brown.zip.\n"
     ]
    },
    {
     "data": {
      "text/plain": [
       "True"
      ]
     },
     "execution_count": 102,
     "metadata": {},
     "output_type": "execute_result"
    }
   ],
   "source": [
    "nltk.download('brown')"
   ]
  },
  {
   "cell_type": "code",
   "execution_count": 103,
   "id": "6320c395-63df-4e1b-a24c-6eebb69a037a",
   "metadata": {},
   "outputs": [],
   "source": [
    "sentences = brown.tagged_sents(categories='news')"
   ]
  },
  {
   "cell_type": "code",
   "execution_count": 104,
   "id": "879b9d2f-68d3-45ff-88f5-35fce15f349c",
   "metadata": {},
   "outputs": [],
   "source": [
    "train = sentences[:4000]\n",
    "test = sentences[4000:]"
   ]
  },
  {
   "cell_type": "code",
   "execution_count": 105,
   "id": "f8a3e93a-1b9e-4eb9-a436-e3162b076b41",
   "metadata": {},
   "outputs": [],
   "source": [
    "unigram = UnigramTagger(train) \n",
    "bigram = BigramTagger(train, backoff=unigram) \n",
    "trigram = TrigramTagger(train, backoff=bigram)"
   ]
  },
  {
   "cell_type": "code",
   "execution_count": 106,
   "id": "581dc778-5ec1-41fa-9ba1-fcd91687e1d6",
   "metadata": {},
   "outputs": [
    {
     "data": {
      "text/plain": [
       "0.8174734002697437"
      ]
     },
     "execution_count": 106,
     "metadata": {},
     "output_type": "execute_result"
    }
   ],
   "source": [
    "trigram.evaluate(test)"
   ]
  },
  {
   "cell_type": "markdown",
   "id": "d218629c-3005-4668-9abd-e781e0c61f83",
   "metadata": {},
   "source": [
    "# Encoding Text as a Bag of Words"
   ]
  },
  {
   "cell_type": "code",
   "execution_count": 108,
   "id": "fa23df96-59bd-4448-9a70-d2671855f086",
   "metadata": {},
   "outputs": [],
   "source": [
    "from sklearn.feature_extraction.text import CountVectorizer"
   ]
  },
  {
   "cell_type": "code",
   "execution_count": 109,
   "id": "66765d6c-7a6d-49ae-894c-69c9369f7233",
   "metadata": {},
   "outputs": [],
   "source": [
    "text_data = np.array(['I love Brazil. Brazil!', 'Sweden is best', 'Germany beats both'])"
   ]
  },
  {
   "cell_type": "code",
   "execution_count": 110,
   "id": "08aefece-75c3-41e3-8661-33e1ab4ff41c",
   "metadata": {},
   "outputs": [],
   "source": [
    "model = CountVectorizer()"
   ]
  },
  {
   "cell_type": "code",
   "execution_count": 114,
   "id": "2eb99e98-c4c5-4532-853e-e96b30296d4d",
   "metadata": {},
   "outputs": [
    {
     "data": {
      "text/plain": [
       "['beats', 'best', 'both', 'brazil', 'germany', 'is', 'love', 'sweden']"
      ]
     },
     "execution_count": 114,
     "metadata": {},
     "output_type": "execute_result"
    }
   ],
   "source": [
    "trans = model.fit_transform(text_data)\n",
    "model.get_feature_names()"
   ]
  },
  {
   "cell_type": "code",
   "execution_count": 116,
   "id": "49611dd9-8452-4d92-9d0d-984028c3badb",
   "metadata": {},
   "outputs": [
    {
     "data": {
      "text/plain": [
       "array([[0, 0, 0, 2, 0, 0, 1, 0],\n",
       "       [0, 1, 0, 0, 0, 1, 0, 1],\n",
       "       [1, 0, 1, 0, 1, 0, 0, 0]])"
      ]
     },
     "execution_count": 116,
     "metadata": {},
     "output_type": "execute_result"
    }
   ],
   "source": [
    "trans.toarray()"
   ]
  },
  {
   "cell_type": "code",
   "execution_count": 118,
   "id": "bb590874-6b1c-4cc1-9806-2d6233519f36",
   "metadata": {},
   "outputs": [
    {
     "name": "stdout",
     "output_type": "stream",
     "text": [
      "  (0, 6)\t1\n",
      "  (0, 3)\t2\n",
      "  (1, 7)\t1\n",
      "  (1, 5)\t1\n",
      "  (1, 1)\t1\n",
      "  (2, 4)\t1\n",
      "  (2, 0)\t1\n",
      "  (2, 2)\t1\n"
     ]
    }
   ],
   "source": [
    "print(trans)"
   ]
  },
  {
   "cell_type": "code",
   "execution_count": null,
   "id": "55f3ec68-9baf-4b5c-9ddd-177979a73ccd",
   "metadata": {},
   "outputs": [],
   "source": []
  },
  {
   "cell_type": "code",
   "execution_count": 137,
   "id": "a9980238-82dc-4b1e-8142-decf061bd8f9",
   "metadata": {},
   "outputs": [],
   "source": [
    "model2 = CountVectorizer(ngram_range=(1,2),\n",
    "                       stop_words='english')"
   ]
  },
  {
   "cell_type": "code",
   "execution_count": 138,
   "id": "800fdeb1-b4af-4975-b0dd-8ae36a80f18b",
   "metadata": {},
   "outputs": [],
   "source": [
    "bag = model2.fit_transform(text_data)"
   ]
  },
  {
   "cell_type": "code",
   "execution_count": 139,
   "id": "1c281bf8-cc6b-4cac-9b71-8702bcba31b4",
   "metadata": {},
   "outputs": [
    {
     "data": {
      "text/plain": [
       "array([[0, 0, 2, 1, 0, 0, 1, 1, 0, 0],\n",
       "       [0, 1, 0, 0, 0, 0, 0, 0, 1, 1],\n",
       "       [1, 0, 0, 0, 1, 1, 0, 0, 0, 0]])"
      ]
     },
     "execution_count": 139,
     "metadata": {},
     "output_type": "execute_result"
    }
   ],
   "source": [
    "bag.toarray()"
   ]
  },
  {
   "cell_type": "code",
   "execution_count": 140,
   "id": "66fea853-2e34-4df1-955f-f901cbe432a1",
   "metadata": {},
   "outputs": [
    {
     "data": {
      "text/plain": [
       "['beats',\n",
       " 'best',\n",
       " 'brazil',\n",
       " 'brazil brazil',\n",
       " 'germany',\n",
       " 'germany beats',\n",
       " 'love',\n",
       " 'love brazil',\n",
       " 'sweden',\n",
       " 'sweden best']"
      ]
     },
     "execution_count": 140,
     "metadata": {},
     "output_type": "execute_result"
    }
   ],
   "source": [
    "model2.get_feature_names()"
   ]
  },
  {
   "cell_type": "code",
   "execution_count": null,
   "id": "779fd7ca-6cc0-4736-8f7e-9f43fb8a81bf",
   "metadata": {},
   "outputs": [],
   "source": []
  },
  {
   "cell_type": "code",
   "execution_count": 144,
   "id": "6645a042-dbd7-45de-a6ad-b2f13798e3f0",
   "metadata": {},
   "outputs": [],
   "source": [
    "model3 = CountVectorizer(ngram_range=(1,2),\n",
    "                       stop_words='english',\n",
    "                        vocabulary=['brazil'])"
   ]
  },
  {
   "cell_type": "code",
   "execution_count": 149,
   "id": "7188edb7-8d6c-4b9b-9b7e-74141515103e",
   "metadata": {},
   "outputs": [
    {
     "data": {
      "text/plain": [
       "['brazil']"
      ]
     },
     "execution_count": 149,
     "metadata": {},
     "output_type": "execute_result"
    }
   ],
   "source": [
    "final = model3.fit_transform(text_data)\n",
    "model3.get_feature_names()"
   ]
  },
  {
   "cell_type": "code",
   "execution_count": 150,
   "id": "2c3e5fe7-3ecf-41df-bb98-2d34ad4765e9",
   "metadata": {},
   "outputs": [
    {
     "data": {
      "text/plain": [
       "array([[2],\n",
       "       [0],\n",
       "       [0]])"
      ]
     },
     "execution_count": 150,
     "metadata": {},
     "output_type": "execute_result"
    }
   ],
   "source": [
    "final.toarray()"
   ]
  },
  {
   "cell_type": "code",
   "execution_count": null,
   "id": "ae8608d0-c3ed-4fac-beda-41f3b9b1278d",
   "metadata": {},
   "outputs": [],
   "source": []
  },
  {
   "cell_type": "code",
   "execution_count": null,
   "id": "7a1cd30f-b3e5-4270-b963-b2ce1fd53293",
   "metadata": {},
   "outputs": [],
   "source": []
  },
  {
   "cell_type": "code",
   "execution_count": 152,
   "id": "d944be6e-6c50-4cda-9bfa-2fe0b795e7e7",
   "metadata": {},
   "outputs": [],
   "source": [
    "from sklearn.feature_extraction.text import TfidfVectorizer"
   ]
  },
  {
   "cell_type": "code",
   "execution_count": 153,
   "id": "293c888e-971a-41ea-9726-fb6be1fe1060",
   "metadata": {},
   "outputs": [],
   "source": [
    "model4 = TfidfVectorizer()"
   ]
  },
  {
   "cell_type": "code",
   "execution_count": 156,
   "id": "897e60f7-932f-46f7-9610-6c33e1449ee6",
   "metadata": {},
   "outputs": [
    {
     "data": {
      "text/plain": [
       "array([[0.        , 0.        , 0.        , 0.89442719, 0.        ,\n",
       "        0.        , 0.4472136 , 0.        ],\n",
       "       [0.        , 0.57735027, 0.        , 0.        , 0.        ,\n",
       "        0.57735027, 0.        , 0.57735027],\n",
       "       [0.57735027, 0.        , 0.57735027, 0.        , 0.57735027,\n",
       "        0.        , 0.        , 0.        ]])"
      ]
     },
     "execution_count": 156,
     "metadata": {},
     "output_type": "execute_result"
    }
   ],
   "source": [
    "model4.fit_transform(text_data).toarray()"
   ]
  },
  {
   "cell_type": "code",
   "execution_count": 158,
   "id": "d66a5d3e-f17d-4f7f-8319-72aefe4cedb7",
   "metadata": {},
   "outputs": [
    {
     "data": {
      "text/plain": [
       "['beats', 'best', 'both', 'brazil', 'germany', 'is', 'love', 'sweden']"
      ]
     },
     "execution_count": 158,
     "metadata": {},
     "output_type": "execute_result"
    }
   ],
   "source": [
    "model4.get_feature_names()"
   ]
  },
  {
   "cell_type": "code",
   "execution_count": 166,
   "id": "2391cbc8-f965-4afd-82d3-d8139cce3f6b",
   "metadata": {},
   "outputs": [
    {
     "data": {
      "text/plain": [
       "{'love': 6,\n",
       " 'brazil': 3,\n",
       " 'sweden': 7,\n",
       " 'is': 5,\n",
       " 'best': 1,\n",
       " 'germany': 4,\n",
       " 'beats': 0,\n",
       " 'both': 2}"
      ]
     },
     "execution_count": 166,
     "metadata": {},
     "output_type": "execute_result"
    }
   ],
   "source": [
    "model4.vocabulary_"
   ]
  },
  {
   "cell_type": "code",
   "execution_count": null,
   "id": "7bd0dda2-e679-4dac-9a9e-7e3e154b7fd4",
   "metadata": {},
   "outputs": [],
   "source": []
  }
 ],
 "metadata": {
  "kernelspec": {
   "display_name": "Python 3 (ipykernel)",
   "language": "python",
   "name": "python3"
  },
  "language_info": {
   "codemirror_mode": {
    "name": "ipython",
    "version": 3
   },
   "file_extension": ".py",
   "mimetype": "text/x-python",
   "name": "python",
   "nbconvert_exporter": "python",
   "pygments_lexer": "ipython3",
   "version": "3.9.7"
  }
 },
 "nbformat": 4,
 "nbformat_minor": 5
}
