{
 "cells": [
  {
   "cell_type": "markdown",
   "id": "90a8606a-9a1d-4208-a87b-2b1f9b82282a",
   "metadata": {},
   "source": [
    "# Rescaling a Feature"
   ]
  },
  {
   "cell_type": "code",
   "execution_count": 78,
   "id": "26446f5b-6854-4c93-a029-5debc3ae5676",
   "metadata": {},
   "outputs": [],
   "source": [
    "import numpy as np\n",
    "from sklearn import preprocessing\n",
    "from sklearn.datasets import make_regression"
   ]
  },
  {
   "cell_type": "code",
   "execution_count": 79,
   "id": "24eb5b08-7198-4585-b03f-502a9b1c06d7",
   "metadata": {},
   "outputs": [],
   "source": [
    "X,y = make_regression(n_samples=100, n_features=3, \n",
    "                      n_informative=3, n_targets=1, \n",
    "                      noise=0, random_state=0)"
   ]
  },
  {
   "cell_type": "code",
   "execution_count": 80,
   "id": "a0da1d48-2317-4596-a8d1-596ed486de38",
   "metadata": {},
   "outputs": [],
   "source": [
    "minmax_scale = preprocessing.MinMaxScaler(feature_range=(0,1))"
   ]
  },
  {
   "cell_type": "code",
   "execution_count": 81,
   "id": "1333235b-2f21-4b8e-b1e2-e56c0052d772",
   "metadata": {},
   "outputs": [],
   "source": [
    "new_features = minmax_scale.fit_transform(X)"
   ]
  },
  {
   "cell_type": "code",
   "execution_count": 82,
   "id": "fc0ddffb-1594-46ea-a7ac-46f28485dc4d",
   "metadata": {},
   "outputs": [
    {
     "data": {
      "text/plain": [
       "array([[-0.63432209,  0.3024719 , -0.36274117],\n",
       "       [ 1.78587049,  0.01050002,  0.12691209],\n",
       "       [ 1.71334272, -0.06824161, -0.74475482],\n",
       "       [-0.31932842,  0.14195316,  0.69153875]])"
      ]
     },
     "execution_count": 82,
     "metadata": {},
     "output_type": "execute_result"
    }
   ],
   "source": [
    "X[:4]"
   ]
  },
  {
   "cell_type": "code",
   "execution_count": 83,
   "id": "7981d6b4-39a0-4995-a5e4-2c5a597a8dea",
   "metadata": {},
   "outputs": [
    {
     "data": {
      "text/plain": [
       "array([[0.42120884, 0.54832275, 0.45513563],\n",
       "       [0.89795228, 0.48494083, 0.55688602],\n",
       "       [0.88366534, 0.46784742, 0.37575285],\n",
       "       [0.48325811, 0.51347698, 0.67421595]])"
      ]
     },
     "execution_count": 83,
     "metadata": {},
     "output_type": "execute_result"
    }
   ],
   "source": [
    "new_features[:4]"
   ]
  },
  {
   "cell_type": "markdown",
   "id": "d1092d3a-f747-4f26-bc1d-d6621dfc1804",
   "metadata": {},
   "source": [
    "# Standardizing a Feature"
   ]
  },
  {
   "cell_type": "code",
   "execution_count": 84,
   "id": "fa4ab466-c0de-44d2-9183-ff37b9462e17",
   "metadata": {},
   "outputs": [],
   "source": [
    "from sklearn.datasets import make_classification"
   ]
  },
  {
   "cell_type": "code",
   "execution_count": 85,
   "id": "2217f534-461b-4a8c-9e39-eceee54d32fd",
   "metadata": {},
   "outputs": [],
   "source": [
    "X,y = make_classification(n_samples=100, n_features=3, n_informative=3, \n",
    "                         n_redundant=0, n_classes=3, weights=[0.5,0.3,0.2])"
   ]
  },
  {
   "cell_type": "code",
   "execution_count": 86,
   "id": "42923c82-855a-4166-b212-501eab093395",
   "metadata": {},
   "outputs": [],
   "source": [
    "from matplotlib import pyplot as plt"
   ]
  },
  {
   "cell_type": "code",
   "execution_count": 87,
   "id": "a06a3dca-b824-416f-8fdf-f85041c55696",
   "metadata": {},
   "outputs": [
    {
     "data": {
      "text/plain": [
       "<matplotlib.collections.PathCollection at 0x7f81c7aa0850>"
      ]
     },
     "execution_count": 87,
     "metadata": {},
     "output_type": "execute_result"
    },
    {
     "data": {
      "image/png": "[encoded data removed]",
      "text/plain": [
       "<Figure size 432x288 with 1 Axes>"
      ]
     },
     "metadata": {
      "needs_background": "light"
     },
     "output_type": "display_data"
    }
   ],
   "source": [
    "plt.scatter(X[:,0], X[:,1], c=y)"
   ]
  },
  {
   "cell_type": "code",
   "execution_count": 88,
   "id": "aee92937-bd1f-482f-8593-ba4ffd2f37b7",
   "metadata": {},
   "outputs": [],
   "source": [
    "model = preprocessing.StandardScaler()"
   ]
  },
  {
   "cell_type": "code",
   "execution_count": 89,
   "id": "f1e706e1-a97a-49e2-a809-3d15e1b5b7de",
   "metadata": {},
   "outputs": [],
   "source": [
    "new_x = model.fit_transform(X)"
   ]
  },
  {
   "cell_type": "code",
   "execution_count": 90,
   "id": "a3e82ffe-0379-4895-b246-cbb289899aed",
   "metadata": {},
   "outputs": [
    {
     "data": {
      "text/plain": [
       "array([[ 1.07603527,  0.46258386,  0.278424  ],\n",
       "       [-0.34647313, -0.6907003 , -0.38226316],\n",
       "       [ 1.09063983,  0.53691635, -0.58888071],\n",
       "       [ 1.3771776 ,  0.20932328,  0.73349062],\n",
       "       [ 0.05774003,  0.40954557, -1.3646037 ],\n",
       "       [ 0.42828181,  1.25179202,  1.17290046],\n",
       "       [-0.69530792, -1.57766141, -0.75232537],\n",
       "       [ 0.43019586, -1.19629108,  0.53178361],\n",
       "       [ 0.57276534,  0.92726528, -0.54113103],\n",
       "       [-0.43434317,  1.39963023, -0.87725682],\n",
       "       [ 0.57446377,  0.442879  ,  1.30200243],\n",
       "       [-1.12469699, -0.11526473,  0.14434476],\n",
       "       [ 0.1695695 , -1.27887848,  1.99128875],\n",
       "       [-0.55391166, -0.80262328,  0.11776509],\n",
       "       [ 1.46175843,  1.20008003,  0.59001332],\n",
       "       [ 0.86032244, -0.59919216,  0.76049864],\n",
       "       [-1.79522693,  0.51448387, -1.02158072],\n",
       "       [ 0.11190086, -0.49015738, -0.50332275],\n",
       "       [ 1.51078488,  0.04447251, -0.45823611],\n",
       "       [-0.17197186, -1.00925616, -0.85439243],\n",
       "       [ 0.10619389,  0.73463623,  0.06904263],\n",
       "       [ 1.31782761, -0.2521093 ,  0.55035964],\n",
       "       [ 1.05726818,  1.6691733 ,  1.79245086],\n",
       "       [-0.39339576,  0.65044842, -0.02887361],\n",
       "       [ 0.70254761,  1.25739697,  2.03079565],\n",
       "       [ 0.71609109,  0.96056612,  1.61992885],\n",
       "       [-1.692285  ,  0.76686321, -0.81020516],\n",
       "       [ 0.2855115 , -1.65600428, -0.32081116],\n",
       "       [-1.75646211, -0.02456169, -1.21177397],\n",
       "       [ 1.05024024, -2.68442792, -1.13986938],\n",
       "       [ 1.39361123, -0.49136789,  1.12182541],\n",
       "       [-0.17708848,  0.61367849, -0.69097185],\n",
       "       [ 0.91740454, -1.27390687, -0.88195715],\n",
       "       [-0.51635468,  0.43989469, -1.23276858],\n",
       "       [-0.58526636,  0.59448811, -0.74303868],\n",
       "       [ 0.46808353, -0.34338569,  0.53724092],\n",
       "       [ 0.02133788, -2.90230195, -0.1188804 ],\n",
       "       [-0.945312  ,  0.77754223, -0.35991911],\n",
       "       [-0.62280065, -0.68887913, -0.43380986],\n",
       "       [ 0.55061251, -0.94140713, -0.24914838],\n",
       "       [-0.14438456, -1.30559561, -1.01115192],\n",
       "       [ 0.28411702,  0.75033059, -0.67188848],\n",
       "       [-1.12481867,  0.69030926, -0.22428869],\n",
       "       [-0.32400186,  0.90739605, -0.73615878],\n",
       "       [-0.38306477, -0.92333173, -0.20367337],\n",
       "       [-0.36652954,  0.56124479,  0.23122196],\n",
       "       [ 0.75655088,  0.63893491,  1.08272194],\n",
       "       [ 1.62326382, -0.5950375 ,  0.56626956],\n",
       "       [-0.90508839, -0.30732296, -0.06728328],\n",
       "       [ 0.57880096, -1.50170665,  1.42125411],\n",
       "       [ 0.55927632,  0.6315378 ,  1.51129744],\n",
       "       [ 1.45976898,  1.32461966, -0.34758052],\n",
       "       [-0.48751932, -0.38586199, -0.65688824],\n",
       "       [-1.91023548,  0.40326082, -0.54797235],\n",
       "       [-1.07160188, -1.03786361, -0.69714546],\n",
       "       [ 0.05608275, -1.05234754,  0.54733177],\n",
       "       [-0.78129038, -0.1002996 , -0.30895164],\n",
       "       [ 1.41674867,  1.45994143,  0.23122177],\n",
       "       [-2.63708546,  0.0182573 , -0.63713311],\n",
       "       [-1.70706026,  0.22333078, -0.88085744],\n",
       "       [ 0.42680633,  0.14746569,  1.09598504],\n",
       "       [ 1.09149701,  0.69535885, -0.69615321],\n",
       "       [-0.37645705, -0.7010317 , -0.30097666],\n",
       "       [-1.16339446, -0.4699188 , -0.83063553],\n",
       "       [-1.74048791,  0.23775913, -0.28656779],\n",
       "       [-0.96633509,  1.88743314, -0.94872914],\n",
       "       [-1.39032345,  0.83990408,  2.21486796],\n",
       "       [ 0.59030448,  0.51132549, -1.20342655],\n",
       "       [-0.37753   , -1.74784378, -1.17854842],\n",
       "       [-1.15855443, -0.13962191,  0.70740562],\n",
       "       [-0.63769529,  0.04368266,  0.34158742],\n",
       "       [-0.53677   ,  0.56452441, -0.63914899],\n",
       "       [-0.70608772, -0.41029967,  0.21370185],\n",
       "       [ 2.25903158, -0.90897611, -0.36967033],\n",
       "       [ 0.30330488,  1.86854667, -0.86383309],\n",
       "       [-0.73426295, -1.2337291 , -0.69862949],\n",
       "       [ 0.50564013,  0.98022205, -0.69204064],\n",
       "       [-1.00980162,  0.06182104,  1.69843458],\n",
       "       [ 0.20429776,  0.21984994,  1.63683321],\n",
       "       [-0.4350478 ,  0.71262995, -0.25585013],\n",
       "       [-1.04749843,  0.03491607, -0.36559614],\n",
       "       [ 0.04816406, -1.38909271, -1.48086419],\n",
       "       [ 0.65091366, -0.37220745,  1.66810335],\n",
       "       [ 0.57286251,  0.55319347, -0.63569679],\n",
       "       [ 1.38794363,  0.3104096 ,  1.99346898],\n",
       "       [ 1.6167356 ,  1.73573016,  0.79253811],\n",
       "       [ 0.39751016,  1.23315447, -0.0995577 ],\n",
       "       [ 1.00030759,  1.11165242, -0.70983651],\n",
       "       [ 0.7958254 ,  1.04677991, -0.87512198],\n",
       "       [-0.06314368, -1.68517907, -1.48393814],\n",
       "       [ 1.18642795, -0.67922408, -0.45333439],\n",
       "       [-0.11093715,  1.23017374, -0.48463892],\n",
       "       [-0.71051061,  0.18733473,  1.31399151],\n",
       "       [-0.08065801, -1.36052081, -1.50928355],\n",
       "       [-0.60738773, -0.0956869 ,  1.25697438],\n",
       "       [-1.90688417,  0.93067413,  2.73386784],\n",
       "       [ 0.76827849,  0.79515167,  1.28218002],\n",
       "       [-1.396247  , -1.01096628,  1.80011649],\n",
       "       [ 2.36239835, -1.24792374, -0.31550703],\n",
       "       [-0.40163255, -1.73255051, -1.75095185]])"
      ]
     },
     "execution_count": 90,
     "metadata": {},
     "output_type": "execute_result"
    }
   ],
   "source": [
    "new_x"
   ]
  },
  {
   "cell_type": "code",
   "execution_count": 43,
   "id": "66fd3a46-bf0c-4daa-b0f4-972eeb27cd9e",
   "metadata": {},
   "outputs": [
    {
     "data": {
      "text/plain": [
       "<matplotlib.collections.PathCollection at 0x7fe84c658e50>"
      ]
     },
     "execution_count": 43,
     "metadata": {},
     "output_type": "execute_result"
    },
    {
     "data": {
      "image/png": "[encoded data removed]",
      "text/plain": [
       "<Figure size 432x288 with 1 Axes>"
      ]
     },
     "metadata": {
      "needs_background": "light"
     },
     "output_type": "display_data"
    }
   ],
   "source": [
    "plt.scatter(new_x[:,0], new_x[:,1], c=y)"
   ]
  },
  {
   "cell_type": "code",
   "execution_count": 50,
   "id": "b91cf97e-6701-432d-894c-fcc007fff8b4",
   "metadata": {},
   "outputs": [
    {
     "data": {
      "text/plain": [
       "-8.289665250534503e-17"
      ]
     },
     "execution_count": 50,
     "metadata": {},
     "output_type": "execute_result"
    }
   ],
   "source": [
    "new_x.mean()"
   ]
  },
  {
   "cell_type": "code",
   "execution_count": 46,
   "id": "fb5af1fe-9523-44f5-b3ba-291677b9165d",
   "metadata": {},
   "outputs": [
    {
     "data": {
      "text/plain": [
       "1.0"
      ]
     },
     "execution_count": 46,
     "metadata": {},
     "output_type": "execute_result"
    }
   ],
   "source": [
    "new_x.std()"
   ]
  },
  {
   "cell_type": "code",
   "execution_count": 54,
   "id": "cbed057e-028d-4a32-a827-371d24e0118e",
   "metadata": {},
   "outputs": [],
   "source": [
    "model1 = preprocessing.RobustScaler() # it is often helpful to instead rescale the feature using the median and quartile range if there's outliers"
   ]
  },
  {
   "cell_type": "code",
   "execution_count": 53,
   "id": "fb0a32be-1893-4fa9-a470-e553e012e75d",
   "metadata": {},
   "outputs": [
    {
     "data": {
      "text/plain": [
       "-0.14961923927578036"
      ]
     },
     "execution_count": 53,
     "metadata": {},
     "output_type": "execute_result"
    }
   ],
   "source": [
    "model1.fit_transform(X).mean()"
   ]
  },
  {
   "cell_type": "markdown",
   "id": "6be35945-4a96-48eb-9cd1-55549f22e301",
   "metadata": {},
   "source": [
    "# Normalizing Observations"
   ]
  },
  {
   "cell_type": "code",
   "execution_count": 55,
   "id": "a9e60f51-2897-4ade-8148-b9b3d6cf08f9",
   "metadata": {},
   "outputs": [],
   "source": [
    "from sklearn.preprocessing import Normalizer"
   ]
  },
  {
   "cell_type": "code",
   "execution_count": 56,
   "id": "25108154-b7ec-4cfb-98e3-795ca5523a20",
   "metadata": {},
   "outputs": [],
   "source": [
    "features = np.array([[0.5, 0.5],[1.1, 3.4], [1.5, 20.2], [1.63, 34.4], [10.9, 3.3]])"
   ]
  },
  {
   "cell_type": "code",
   "execution_count": 58,
   "id": "5d47befe-30f2-48ae-8dd9-c466084d0bdc",
   "metadata": {},
   "outputs": [],
   "source": [
    "model = Normalizer(norm='l2')"
   ]
  },
  {
   "cell_type": "code",
   "execution_count": 61,
   "id": "f384a649-9798-4f10-9d67-5ba2ade90fb1",
   "metadata": {},
   "outputs": [],
   "source": [
    "new_features = model.fit_transform(features)"
   ]
  },
  {
   "cell_type": "code",
   "execution_count": 62,
   "id": "ba559a0f-b44e-4af2-a80b-721ff3b4d46b",
   "metadata": {},
   "outputs": [
    {
     "data": {
      "text/plain": [
       "1.414213562373095"
      ]
     },
     "execution_count": 62,
     "metadata": {},
     "output_type": "execute_result"
    }
   ],
   "source": [
    "new_features[0,0] + new_features[0,1]"
   ]
  },
  {
   "cell_type": "code",
   "execution_count": 63,
   "id": "82666961-57a9-480b-a42e-5569562acffd",
   "metadata": {},
   "outputs": [],
   "source": [
    "new_features2 = Normalizer(norm='l1').fit_transform(features)"
   ]
  },
  {
   "cell_type": "code",
   "execution_count": 64,
   "id": "0fe14504-64db-4616-8e84-49adb68dfc4f",
   "metadata": {},
   "outputs": [
    {
     "data": {
      "text/plain": [
       "1.0"
      ]
     },
     "execution_count": 64,
     "metadata": {},
     "output_type": "execute_result"
    }
   ],
   "source": [
    "new_features2[0,0] + new_features2[0,1]"
   ]
  },
  {
   "cell_type": "markdown",
   "id": "871c0319-2f34-4837-a137-860c276413cc",
   "metadata": {},
   "source": [
    "# Generating Polynomial and Interaction Features"
   ]
  },
  {
   "cell_type": "code",
   "execution_count": 394,
   "id": "1b13da91-51ba-4180-b1b4-c54044101e55",
   "metadata": {},
   "outputs": [],
   "source": [
    "features = np.array([[2, 3],\n",
    "                     [2, 3],\n",
    "                     [2, 3]])"
   ]
  },
  {
   "cell_type": "code",
   "execution_count": 395,
   "id": "f2324bec-5076-4b44-8cf7-707e458ccd20",
   "metadata": {},
   "outputs": [],
   "source": [
    "polynomial_interaction = PolynomialFeatures(degree=3, include_bias=False)"
   ]
  },
  {
   "cell_type": "code",
   "execution_count": 399,
   "id": "e0fe6b77-bc94-4ed1-9f62-671bac0e61ef",
   "metadata": {},
   "outputs": [
    {
     "data": {
      "text/plain": [
       "array([[ 2.,  3.,  4.,  6.,  9.,  8., 12., 18., 27.],\n",
       "       [ 2.,  3.,  4.,  6.,  9.,  8., 12., 18., 27.],\n",
       "       [ 2.,  3.,  4.,  6.,  9.,  8., 12., 18., 27.]])"
      ]
     },
     "execution_count": 399,
     "metadata": {},
     "output_type": "execute_result"
    }
   ],
   "source": [
    "polynomial_interaction.fit_transform(features)"
   ]
  },
  {
   "cell_type": "code",
   "execution_count": 400,
   "id": "692ccce0-27ed-4f91-b71d-f8633fb4bd29",
   "metadata": {},
   "outputs": [],
   "source": [
    "interaction = PolynomialFeatures(degree=2, interaction_only=True, include_bias=False)"
   ]
  },
  {
   "cell_type": "code",
   "execution_count": 402,
   "id": "5e2282a3-b83e-4e97-9391-69c665dcf80c",
   "metadata": {},
   "outputs": [
    {
     "data": {
      "text/plain": [
       "array([[2., 3., 6.],\n",
       "       [2., 3., 6.],\n",
       "       [2., 3., 6.]])"
      ]
     },
     "execution_count": 402,
     "metadata": {},
     "output_type": "execute_result"
    }
   ],
   "source": [
    "interaction.fit_transform(features)"
   ]
  },
  {
   "cell_type": "markdown",
   "id": "263fe1e1-a09c-468b-93b1-80414251cf77",
   "metadata": {
    "tags": []
   },
   "source": [
    "# Transforming Features"
   ]
  },
  {
   "cell_type": "code",
   "execution_count": 1,
   "id": "4d640e50-615d-4100-b911-67635fb10248",
   "metadata": {},
   "outputs": [],
   "source": [
    "from sklearn.preprocessing import FunctionTransformer"
   ]
  },
  {
   "cell_type": "code",
   "execution_count": 11,
   "id": "1b0a6c7b-238b-45bd-9904-ea387c92db2e",
   "metadata": {},
   "outputs": [],
   "source": [
    "import pandas as pd"
   ]
  },
  {
   "cell_type": "code",
   "execution_count": 4,
   "id": "75cdfb97-bdef-442d-afec-602c1a6f0e0f",
   "metadata": {},
   "outputs": [],
   "source": [
    "features = np.array([[2, 3],[2, 3], [2, 3]])"
   ]
  },
  {
   "cell_type": "code",
   "execution_count": 29,
   "id": "6009dbe8-9e12-45de-b01c-481a72f9516a",
   "metadata": {},
   "outputs": [],
   "source": [
    "def add_ten(x):\n",
    "    return x+10"
   ]
  },
  {
   "cell_type": "code",
   "execution_count": 30,
   "id": "f1af57c2-70e5-47e0-a818-44d2d5f7b4f3",
   "metadata": {},
   "outputs": [],
   "source": [
    "ten_trans = FunctionTransformer(add_ten)"
   ]
  },
  {
   "cell_type": "code",
   "execution_count": 31,
   "id": "6beba3f5-8097-43c9-9917-86bed94d23a7",
   "metadata": {},
   "outputs": [
    {
     "data": {
      "text/plain": [
       "array([[12, 13],\n",
       "       [12, 13],\n",
       "       [12, 13]])"
      ]
     },
     "execution_count": 31,
     "metadata": {},
     "output_type": "execute_result"
    }
   ],
   "source": [
    "ten_trans.fit_transform(features)"
   ]
  },
  {
   "cell_type": "code",
   "execution_count": 54,
   "id": "15b364d1-bf7c-4261-aa3f-33f7cdb22b32",
   "metadata": {},
   "outputs": [
    {
     "data": {
      "text/plain": [
       "0    2\n",
       "1    2\n",
       "2    2\n",
       "Name: feature1, dtype: int64"
      ]
     },
     "execution_count": 54,
     "metadata": {},
     "output_type": "execute_result"
    }
   ],
   "source": [
    "df['feature1']"
   ]
  },
  {
   "cell_type": "code",
   "execution_count": 58,
   "id": "85d902ee-f35d-4d26-907f-7fe7363c608b",
   "metadata": {},
   "outputs": [],
   "source": [
    "def mins_ten(x):\n",
    "    return x-10"
   ]
  },
  {
   "cell_type": "code",
   "execution_count": 70,
   "id": "f427987a-8041-4740-97bb-52d8ab20ade3",
   "metadata": {},
   "outputs": [
    {
     "data": {
      "text/html": [
       "<div>\n",
       "<style scoped>\n",
       "    .dataframe tbody tr th:only-of-type {\n",
       "        vertical-align: middle;\n",
       "    }\n",
       "\n",
       "    .dataframe tbody tr th {\n",
       "        vertical-align: top;\n",
       "    }\n",
       "\n",
       "    .dataframe thead th {\n",
       "        text-align: right;\n",
       "    }\n",
       "</style>\n",
       "<table border=\"1\" class=\"dataframe\">\n",
       "  <thead>\n",
       "    <tr style=\"text-align: right;\">\n",
       "      <th></th>\n",
       "      <th>feature1</th>\n",
       "      <th>feature2</th>\n",
       "    </tr>\n",
       "  </thead>\n",
       "  <tbody>\n",
       "    <tr>\n",
       "      <th>0</th>\n",
       "      <td>-8</td>\n",
       "      <td>-7</td>\n",
       "    </tr>\n",
       "    <tr>\n",
       "      <th>1</th>\n",
       "      <td>-8</td>\n",
       "      <td>-7</td>\n",
       "    </tr>\n",
       "    <tr>\n",
       "      <th>2</th>\n",
       "      <td>-8</td>\n",
       "      <td>-7</td>\n",
       "    </tr>\n",
       "  </tbody>\n",
       "</table>\n",
       "</div>"
      ],
      "text/plain": [
       "   feature1  feature2\n",
       "0        -8        -7\n",
       "1        -8        -7\n",
       "2        -8        -7"
      ]
     },
     "execution_count": 70,
     "metadata": {},
     "output_type": "execute_result"
    }
   ],
   "source": [
    "df = pd.DataFrame(features)\n",
    "df.columns = ['feature1', 'feature2']\n",
    "df.apply(mins_ten)"
   ]
  },
  {
   "cell_type": "code",
   "execution_count": 72,
   "id": "8c1f18ea-e23a-4687-9269-831fe0c5ea55",
   "metadata": {},
   "outputs": [
    {
     "data": {
      "text/html": [
       "<div>\n",
       "<style scoped>\n",
       "    .dataframe tbody tr th:only-of-type {\n",
       "        vertical-align: middle;\n",
       "    }\n",
       "\n",
       "    .dataframe tbody tr th {\n",
       "        vertical-align: top;\n",
       "    }\n",
       "\n",
       "    .dataframe thead th {\n",
       "        text-align: right;\n",
       "    }\n",
       "</style>\n",
       "<table border=\"1\" class=\"dataframe\">\n",
       "  <thead>\n",
       "    <tr style=\"text-align: right;\">\n",
       "      <th></th>\n",
       "      <th>feature1</th>\n",
       "      <th>feature2</th>\n",
       "    </tr>\n",
       "  </thead>\n",
       "  <tbody>\n",
       "    <tr>\n",
       "      <th>0</th>\n",
       "      <td>2</td>\n",
       "      <td>3</td>\n",
       "    </tr>\n",
       "    <tr>\n",
       "      <th>1</th>\n",
       "      <td>2</td>\n",
       "      <td>3</td>\n",
       "    </tr>\n",
       "    <tr>\n",
       "      <th>2</th>\n",
       "      <td>2</td>\n",
       "      <td>3</td>\n",
       "    </tr>\n",
       "  </tbody>\n",
       "</table>\n",
       "</div>"
      ],
      "text/plain": [
       "   feature1  feature2\n",
       "0         2         3\n",
       "1         2         3\n",
       "2         2         3"
      ]
     },
     "execution_count": 72,
     "metadata": {},
     "output_type": "execute_result"
    }
   ],
   "source": [
    "df"
   ]
  },
  {
   "cell_type": "code",
   "execution_count": 75,
   "id": "7676d4a2-25df-458f-b220-36236a50c3b7",
   "metadata": {},
   "outputs": [
    {
     "data": {
      "text/plain": [
       "0    0.0\n",
       "1    0.0\n",
       "2    0.0\n",
       "Name: feature1, dtype: float64"
      ]
     },
     "execution_count": 75,
     "metadata": {},
     "output_type": "execute_result"
    }
   ],
   "source": [
    "df['feature1'].apply(lambda x: x-np.mean(x))"
   ]
  },
  {
   "cell_type": "code",
   "execution_count": null,
   "id": "b8868cee-2fed-4f53-b021-c372cec34c34",
   "metadata": {},
   "outputs": [],
   "source": []
  },
  {
   "cell_type": "markdown",
   "id": "aee97e4e-4b0e-4217-a4d6-b9bb6ba72576",
   "metadata": {},
   "source": [
    "# Detecting Outliers"
   ]
  },
  {
   "cell_type": "code",
   "execution_count": 93,
   "id": "88f0a618-1939-41ee-a36f-73fae4f2c690",
   "metadata": {},
   "outputs": [],
   "source": [
    "from sklearn.covariance import EllipticEnvelope"
   ]
  },
  {
   "cell_type": "code",
   "execution_count": 94,
   "id": "6afc799a-0fa8-4144-924b-ec8c35d3c772",
   "metadata": {},
   "outputs": [],
   "source": [
    "from sklearn.datasets import make_blobs"
   ]
  },
  {
   "cell_type": "code",
   "execution_count": 97,
   "id": "37644def-105d-4901-ba8c-16a0a0e3f401",
   "metadata": {},
   "outputs": [],
   "source": [
    "data, _ = make_blobs(n_samples=20, n_features=2, centers=1)"
   ]
  },
  {
   "cell_type": "code",
   "execution_count": 98,
   "id": "8fdf8292-5056-40c5-aeba-378a90bd4ea3",
   "metadata": {},
   "outputs": [],
   "source": [
    "data[0,1] = 10000\n",
    "data[1,1] = 10000"
   ]
  },
  {
   "cell_type": "code",
   "execution_count": 99,
   "id": "0f3904a0-a55c-41a0-98f4-d41a5f6fdd13",
   "metadata": {},
   "outputs": [],
   "source": [
    "outlierdetect = EllipticEnvelope(contamination=0.1)"
   ]
  },
  {
   "cell_type": "code",
   "execution_count": 100,
   "id": "b5d14952-9b6a-4f00-a768-39e5c43136c7",
   "metadata": {},
   "outputs": [
    {
     "data": {
      "text/plain": [
       "array([-1, -1,  1,  1,  1,  1,  1,  1,  1,  1,  1,  1,  1,  1,  1,  1,  1,\n",
       "        1,  1,  1])"
      ]
     },
     "execution_count": 100,
     "metadata": {},
     "output_type": "execute_result"
    }
   ],
   "source": [
    "outlierdetect.fit_predict(data)"
   ]
  },
  {
   "cell_type": "code",
   "execution_count": null,
   "id": "893425ed-4b0d-4b9a-973d-4e0c0eb599c4",
   "metadata": {},
   "outputs": [],
   "source": []
  },
  {
   "cell_type": "code",
   "execution_count": null,
   "id": "6a7e9243-00e6-4d35-8122-0a88cf4cb3ce",
   "metadata": {},
   "outputs": [],
   "source": []
  },
  {
   "cell_type": "code",
   "execution_count": 112,
   "id": "d69f1109-a3b1-494b-aa8f-d184702d5a43",
   "metadata": {},
   "outputs": [],
   "source": [
    "feature = data[:,0]"
   ]
  },
  {
   "cell_type": "code",
   "execution_count": 113,
   "id": "445d4401-af18-487c-ba72-98dcc44daae1",
   "metadata": {},
   "outputs": [],
   "source": [
    "def detect(x):\n",
    "    q1, q3 = np.percentile(x, [25,75])\n",
    "    iqr = q3-q1\n",
    "    lower_bound = q1 - (iqr*1.5)\n",
    "    upper_bound = q3 + (iqr*1.5)\n",
    "    return np.where((x<lower_bound) | (x>upper_bound))"
   ]
  },
  {
   "cell_type": "code",
   "execution_count": 114,
   "id": "053dcee2-a985-4aa7-a1b0-479ae6724890",
   "metadata": {},
   "outputs": [
    {
     "data": {
      "text/plain": [
       "(array([4]),)"
      ]
     },
     "execution_count": 114,
     "metadata": {},
     "output_type": "execute_result"
    }
   ],
   "source": [
    "detect(feature)"
   ]
  },
  {
   "cell_type": "code",
   "execution_count": null,
   "id": "162aa9f5-1845-41a1-bdc8-d5840c3482ce",
   "metadata": {},
   "outputs": [],
   "source": []
  },
  {
   "cell_type": "markdown",
   "id": "654539a8-f866-4979-97ba-40b88d5a52e8",
   "metadata": {},
   "source": [
    "# Handling Outliers"
   ]
  },
  {
   "cell_type": "code",
   "execution_count": 115,
   "id": "307cf5b1-39ac-447b-8419-a4b6fd445ee2",
   "metadata": {},
   "outputs": [],
   "source": [
    "df = pd.DataFrame({'price':[534433, 392333, 293222, 4322032], 'bathrooms':[2, 3.5, 2, 116], 'sqft':[1500, 2500, 1500, 48000]})"
   ]
  },
  {
   "cell_type": "code",
   "execution_count": 116,
   "id": "8611478f-d304-47ee-ad8c-64cf7fde48f8",
   "metadata": {},
   "outputs": [
    {
     "data": {
      "text/html": [
       "<div>\n",
       "<style scoped>\n",
       "    .dataframe tbody tr th:only-of-type {\n",
       "        vertical-align: middle;\n",
       "    }\n",
       "\n",
       "    .dataframe tbody tr th {\n",
       "        vertical-align: top;\n",
       "    }\n",
       "\n",
       "    .dataframe thead th {\n",
       "        text-align: right;\n",
       "    }\n",
       "</style>\n",
       "<table border=\"1\" class=\"dataframe\">\n",
       "  <thead>\n",
       "    <tr style=\"text-align: right;\">\n",
       "      <th></th>\n",
       "      <th>price</th>\n",
       "      <th>bathrooms</th>\n",
       "      <th>sqft</th>\n",
       "    </tr>\n",
       "  </thead>\n",
       "  <tbody>\n",
       "    <tr>\n",
       "      <th>0</th>\n",
       "      <td>534433</td>\n",
       "      <td>2.0</td>\n",
       "      <td>1500</td>\n",
       "    </tr>\n",
       "    <tr>\n",
       "      <th>1</th>\n",
       "      <td>392333</td>\n",
       "      <td>3.5</td>\n",
       "      <td>2500</td>\n",
       "    </tr>\n",
       "    <tr>\n",
       "      <th>2</th>\n",
       "      <td>293222</td>\n",
       "      <td>2.0</td>\n",
       "      <td>1500</td>\n",
       "    </tr>\n",
       "    <tr>\n",
       "      <th>3</th>\n",
       "      <td>4322032</td>\n",
       "      <td>116.0</td>\n",
       "      <td>48000</td>\n",
       "    </tr>\n",
       "  </tbody>\n",
       "</table>\n",
       "</div>"
      ],
      "text/plain": [
       "     price  bathrooms   sqft\n",
       "0   534433        2.0   1500\n",
       "1   392333        3.5   2500\n",
       "2   293222        2.0   1500\n",
       "3  4322032      116.0  48000"
      ]
     },
     "execution_count": 116,
     "metadata": {},
     "output_type": "execute_result"
    }
   ],
   "source": [
    "df"
   ]
  },
  {
   "cell_type": "code",
   "execution_count": 117,
   "id": "6b16b6a3-20de-44ed-9627-144a3b73b103",
   "metadata": {},
   "outputs": [],
   "source": [
    "df['outlier'] = np.where(df['bathrooms']<20, 0,1)"
   ]
  },
  {
   "cell_type": "code",
   "execution_count": 118,
   "id": "de140da6-6002-401b-9d9b-42a575e630db",
   "metadata": {},
   "outputs": [
    {
     "data": {
      "text/html": [
       "<div>\n",
       "<style scoped>\n",
       "    .dataframe tbody tr th:only-of-type {\n",
       "        vertical-align: middle;\n",
       "    }\n",
       "\n",
       "    .dataframe tbody tr th {\n",
       "        vertical-align: top;\n",
       "    }\n",
       "\n",
       "    .dataframe thead th {\n",
       "        text-align: right;\n",
       "    }\n",
       "</style>\n",
       "<table border=\"1\" class=\"dataframe\">\n",
       "  <thead>\n",
       "    <tr style=\"text-align: right;\">\n",
       "      <th></th>\n",
       "      <th>price</th>\n",
       "      <th>bathrooms</th>\n",
       "      <th>sqft</th>\n",
       "      <th>outlier</th>\n",
       "    </tr>\n",
       "  </thead>\n",
       "  <tbody>\n",
       "    <tr>\n",
       "      <th>0</th>\n",
       "      <td>534433</td>\n",
       "      <td>2.0</td>\n",
       "      <td>1500</td>\n",
       "      <td>0</td>\n",
       "    </tr>\n",
       "    <tr>\n",
       "      <th>1</th>\n",
       "      <td>392333</td>\n",
       "      <td>3.5</td>\n",
       "      <td>2500</td>\n",
       "      <td>0</td>\n",
       "    </tr>\n",
       "    <tr>\n",
       "      <th>2</th>\n",
       "      <td>293222</td>\n",
       "      <td>2.0</td>\n",
       "      <td>1500</td>\n",
       "      <td>0</td>\n",
       "    </tr>\n",
       "    <tr>\n",
       "      <th>3</th>\n",
       "      <td>4322032</td>\n",
       "      <td>116.0</td>\n",
       "      <td>48000</td>\n",
       "      <td>1</td>\n",
       "    </tr>\n",
       "  </tbody>\n",
       "</table>\n",
       "</div>"
      ],
      "text/plain": [
       "     price  bathrooms   sqft  outlier\n",
       "0   534433        2.0   1500        0\n",
       "1   392333        3.5   2500        0\n",
       "2   293222        2.0   1500        0\n",
       "3  4322032      116.0  48000        1"
      ]
     },
     "execution_count": 118,
     "metadata": {},
     "output_type": "execute_result"
    }
   ],
   "source": [
    "df"
   ]
  },
  {
   "cell_type": "code",
   "execution_count": 119,
   "id": "3f1680f4-8f6a-4d0c-b9b8-20a952524b2f",
   "metadata": {},
   "outputs": [],
   "source": [
    "df['log_sqft'] = [np.log(i) for i in df['sqft']]"
   ]
  },
  {
   "cell_type": "code",
   "execution_count": 120,
   "id": "b3d2a620-61ec-4bf0-846b-5caf5d1c7576",
   "metadata": {},
   "outputs": [
    {
     "data": {
      "text/html": [
       "<div>\n",
       "<style scoped>\n",
       "    .dataframe tbody tr th:only-of-type {\n",
       "        vertical-align: middle;\n",
       "    }\n",
       "\n",
       "    .dataframe tbody tr th {\n",
       "        vertical-align: top;\n",
       "    }\n",
       "\n",
       "    .dataframe thead th {\n",
       "        text-align: right;\n",
       "    }\n",
       "</style>\n",
       "<table border=\"1\" class=\"dataframe\">\n",
       "  <thead>\n",
       "    <tr style=\"text-align: right;\">\n",
       "      <th></th>\n",
       "      <th>price</th>\n",
       "      <th>bathrooms</th>\n",
       "      <th>sqft</th>\n",
       "      <th>outlier</th>\n",
       "      <th>log_sqft</th>\n",
       "    </tr>\n",
       "  </thead>\n",
       "  <tbody>\n",
       "    <tr>\n",
       "      <th>0</th>\n",
       "      <td>534433</td>\n",
       "      <td>2.0</td>\n",
       "      <td>1500</td>\n",
       "      <td>0</td>\n",
       "      <td>7.313220</td>\n",
       "    </tr>\n",
       "    <tr>\n",
       "      <th>1</th>\n",
       "      <td>392333</td>\n",
       "      <td>3.5</td>\n",
       "      <td>2500</td>\n",
       "      <td>0</td>\n",
       "      <td>7.824046</td>\n",
       "    </tr>\n",
       "    <tr>\n",
       "      <th>2</th>\n",
       "      <td>293222</td>\n",
       "      <td>2.0</td>\n",
       "      <td>1500</td>\n",
       "      <td>0</td>\n",
       "      <td>7.313220</td>\n",
       "    </tr>\n",
       "    <tr>\n",
       "      <th>3</th>\n",
       "      <td>4322032</td>\n",
       "      <td>116.0</td>\n",
       "      <td>48000</td>\n",
       "      <td>1</td>\n",
       "      <td>10.778956</td>\n",
       "    </tr>\n",
       "  </tbody>\n",
       "</table>\n",
       "</div>"
      ],
      "text/plain": [
       "     price  bathrooms   sqft  outlier   log_sqft\n",
       "0   534433        2.0   1500        0   7.313220\n",
       "1   392333        3.5   2500        0   7.824046\n",
       "2   293222        2.0   1500        0   7.313220\n",
       "3  4322032      116.0  48000        1  10.778956"
      ]
     },
     "execution_count": 120,
     "metadata": {},
     "output_type": "execute_result"
    }
   ],
   "source": [
    "df"
   ]
  },
  {
   "cell_type": "code",
   "execution_count": 125,
   "id": "f71d5cde-adfd-4480-a228-10843193f2fa",
   "metadata": {},
   "outputs": [
    {
     "data": {
      "text/plain": [
       "2.0      2\n",
       "3.5      1\n",
       "116.0    1\n",
       "Name: bathrooms, dtype: int64"
      ]
     },
     "execution_count": 125,
     "metadata": {},
     "output_type": "execute_result"
    }
   ],
   "source": [
    "df['bathrooms'].value_counts()"
   ]
  },
  {
   "cell_type": "code",
   "execution_count": 128,
   "id": "f1e59f75-e605-47be-8e92-15cf47bc7981",
   "metadata": {},
   "outputs": [
    {
     "data": {
      "text/plain": [
       "array([0, 1])"
      ]
     },
     "execution_count": 128,
     "metadata": {},
     "output_type": "execute_result"
    }
   ],
   "source": [
    "df['outlier'].unique()"
   ]
  },
  {
   "cell_type": "code",
   "execution_count": 132,
   "id": "351bbb6c-8a0f-461a-b2be-979499e359a4",
   "metadata": {},
   "outputs": [
    {
     "data": {
      "text/plain": [
       "4"
      ]
     },
     "execution_count": 132,
     "metadata": {},
     "output_type": "execute_result"
    }
   ],
   "source": [
    "df['bathrooms'].count()"
   ]
  },
  {
   "cell_type": "markdown",
   "id": "491656dd-bd7f-47b9-b5b8-e4754c63ac59",
   "metadata": {},
   "source": [
    "# Discretizating Features"
   ]
  },
  {
   "cell_type": "code",
   "execution_count": 134,
   "id": "13eca1f0-8b97-4d0a-86f9-db7be389f1ba",
   "metadata": {},
   "outputs": [],
   "source": [
    "from sklearn.preprocessing import  Binarizer"
   ]
  },
  {
   "cell_type": "code",
   "execution_count": 135,
   "id": "05dcbc18-4fe5-4d76-98bd-e1f9737e0dc2",
   "metadata": {},
   "outputs": [],
   "source": [
    "age = np.array([[6],[12],[20],[36],[65]])"
   ]
  },
  {
   "cell_type": "code",
   "execution_count": 140,
   "id": "37ccd34c-3263-4a6b-808b-7d0f037b9820",
   "metadata": {},
   "outputs": [
    {
     "name": "stderr",
     "output_type": "stream",
     "text": [
      "/Users/david/opt/anaconda3/lib/python3.9/site-packages/sklearn/utils/validation.py:70: FutureWarning: Pass threshold=60 as keyword args. From version 1.0 (renaming of 0.25) passing these as positional arguments will result in an error\n",
      "  warnings.warn(f\"Pass {args_msg} as keyword args. From version \"\n"
     ]
    },
    {
     "data": {
      "text/plain": [
       "array([[0],\n",
       "       [0],\n",
       "       [0],\n",
       "       [0],\n",
       "       [1]])"
      ]
     },
     "execution_count": 140,
     "metadata": {},
     "output_type": "execute_result"
    }
   ],
   "source": [
    "bin = Binarizer(60)\n",
    "bin.fit_transform(age)"
   ]
  },
  {
   "cell_type": "code",
   "execution_count": 143,
   "id": "001e809d-314a-4559-874a-5b5e5acb50f6",
   "metadata": {},
   "outputs": [
    {
     "data": {
      "text/plain": [
       "array([[0],\n",
       "       [0],\n",
       "       [0],\n",
       "       [1],\n",
       "       [3]])"
      ]
     },
     "execution_count": 143,
     "metadata": {},
     "output_type": "execute_result"
    }
   ],
   "source": [
    "np.digitize(age, bins=[20,40,60], right=True)"
   ]
  },
  {
   "cell_type": "code",
   "execution_count": 144,
   "id": "e8c5851d-f976-4179-afd6-42d59f603402",
   "metadata": {},
   "outputs": [
    {
     "data": {
      "text/plain": [
       "array([[0],\n",
       "       [0],\n",
       "       [1],\n",
       "       [1],\n",
       "       [3]])"
      ]
     },
     "execution_count": 144,
     "metadata": {},
     "output_type": "execute_result"
    }
   ],
   "source": [
    "np.digitize(age, bins=[20,40,60])"
   ]
  },
  {
   "cell_type": "markdown",
   "id": "9c1385d7-9216-4be9-aba0-74e2e70094fc",
   "metadata": {
    "tags": []
   },
   "source": [
    "# Grouping Observations Using Clustering"
   ]
  },
  {
   "cell_type": "code",
   "execution_count": 145,
   "id": "1c2167bd-d8b1-434f-8159-1e6a4f58f373",
   "metadata": {},
   "outputs": [],
   "source": [
    "from sklearn.cluster import KMeans"
   ]
  },
  {
   "cell_type": "code",
   "execution_count": 155,
   "id": "6990f0e0-b196-485a-ba4e-82c7c9c86ac0",
   "metadata": {},
   "outputs": [],
   "source": [
    "dat,y = make_blobs(n_samples=50, n_features = 3, centers=3, random_state=2)"
   ]
  },
  {
   "cell_type": "code",
   "execution_count": 156,
   "id": "dd1c8f62-a3ff-4770-ac97-25fcfb221764",
   "metadata": {},
   "outputs": [
    {
     "data": {
      "text/plain": [
       "<matplotlib.collections.PathCollection at 0x7f81c89f5430>"
      ]
     },
     "execution_count": 156,
     "metadata": {},
     "output_type": "execute_result"
    },
    {
     "data": {
      "image/png": "[encoded data removed]",
      "text/plain": [
       "<Figure size 432x288 with 1 Axes>"
      ]
     },
     "metadata": {
      "needs_background": "light"
     },
     "output_type": "display_data"
    }
   ],
   "source": [
    "plt.scatter(dat[:,0], dat[:,1], c=y)"
   ]
  },
  {
   "cell_type": "code",
   "execution_count": 157,
   "id": "ccc40d2c-677e-44df-a9f4-8b7cbb9dfd12",
   "metadata": {},
   "outputs": [],
   "source": [
    "model = KMeans(n_clusters=3)"
   ]
  },
  {
   "cell_type": "code",
   "execution_count": 160,
   "id": "e1569a91-160f-4fa8-b254-f1a60b1b6b4c",
   "metadata": {},
   "outputs": [
    {
     "data": {
      "text/html": [
       "<div>\n",
       "<style scoped>\n",
       "    .dataframe tbody tr th:only-of-type {\n",
       "        vertical-align: middle;\n",
       "    }\n",
       "\n",
       "    .dataframe tbody tr th {\n",
       "        vertical-align: top;\n",
       "    }\n",
       "\n",
       "    .dataframe thead th {\n",
       "        text-align: right;\n",
       "    }\n",
       "</style>\n",
       "<table border=\"1\" class=\"dataframe\">\n",
       "  <thead>\n",
       "    <tr style=\"text-align: right;\">\n",
       "      <th></th>\n",
       "      <th>0</th>\n",
       "      <th>1</th>\n",
       "      <th>2</th>\n",
       "      <th>type</th>\n",
       "    </tr>\n",
       "  </thead>\n",
       "  <tbody>\n",
       "    <tr>\n",
       "      <th>0</th>\n",
       "      <td>-6.257266</td>\n",
       "      <td>1.010652</td>\n",
       "      <td>-3.603902</td>\n",
       "      <td>0</td>\n",
       "    </tr>\n",
       "    <tr>\n",
       "      <th>1</th>\n",
       "      <td>-2.732997</td>\n",
       "      <td>-0.683557</td>\n",
       "      <td>-4.315020</td>\n",
       "      <td>2</td>\n",
       "    </tr>\n",
       "    <tr>\n",
       "      <th>2</th>\n",
       "      <td>-2.448002</td>\n",
       "      <td>-8.401412</td>\n",
       "      <td>-2.498565</td>\n",
       "      <td>1</td>\n",
       "    </tr>\n",
       "    <tr>\n",
       "      <th>3</th>\n",
       "      <td>-5.651726</td>\n",
       "      <td>2.305496</td>\n",
       "      <td>-4.269510</td>\n",
       "      <td>0</td>\n",
       "    </tr>\n",
       "    <tr>\n",
       "      <th>4</th>\n",
       "      <td>-1.245658</td>\n",
       "      <td>-1.930295</td>\n",
       "      <td>-4.093451</td>\n",
       "      <td>2</td>\n",
       "    </tr>\n",
       "  </tbody>\n",
       "</table>\n",
       "</div>"
      ],
      "text/plain": [
       "          0         1         2  type\n",
       "0 -6.257266  1.010652 -3.603902     0\n",
       "1 -2.732997 -0.683557 -4.315020     2\n",
       "2 -2.448002 -8.401412 -2.498565     1\n",
       "3 -5.651726  2.305496 -4.269510     0\n",
       "4 -1.245658 -1.930295 -4.093451     2"
      ]
     },
     "execution_count": 160,
     "metadata": {},
     "output_type": "execute_result"
    }
   ],
   "source": [
    "df = pd.DataFrame(dat)\n",
    "df['type'] = model.fit(dat).predict(dat)\n",
    "df.head()"
   ]
  },
  {
   "cell_type": "code",
   "execution_count": 165,
   "id": "1f2f2829-1eaa-4406-8ed6-1c234116aa88",
   "metadata": {},
   "outputs": [],
   "source": [
    "y_ = model.fit(dat).predict(dat)\n",
    "centers = model.cluster_centers_"
   ]
  },
  {
   "cell_type": "code",
   "execution_count": 170,
   "id": "bb573870-4183-4a8c-a027-6e9b33c24205",
   "metadata": {},
   "outputs": [
    {
     "data": {
      "text/plain": [
       "<matplotlib.collections.PathCollection at 0x7f81c9885f10>"
      ]
     },
     "execution_count": 170,
     "metadata": {},
     "output_type": "execute_result"
    },
    {
     "data": {
      "image/png": "[encoded data removed]",
      "text/plain": [
       "<Figure size 432x288 with 1 Axes>"
      ]
     },
     "metadata": {
      "needs_background": "light"
     },
     "output_type": "display_data"
    }
   ],
   "source": [
    "plt.scatter(dat[:,0], dat[:,1], c=y_)\n",
    "plt.scatter(centers[:,0], centers[:,1], facecolor='red', edgecolor='black', s=50)"
   ]
  },
  {
   "cell_type": "code",
   "execution_count": null,
   "id": "44f1194d-7191-483e-bfdc-650efb3fd81c",
   "metadata": {},
   "outputs": [],
   "source": []
  },
  {
   "cell_type": "markdown",
   "id": "8afbef77-dfeb-41d9-a513-bf35e1aeac37",
   "metadata": {},
   "source": [
    "# Deleting Observations with Missing Values"
   ]
  },
  {
   "cell_type": "code",
   "execution_count": null,
   "id": "22d95dbd-3716-4fe1-b23e-44f7f42d5b38",
   "metadata": {},
   "outputs": [],
   "source": [
    "features = np.array([[1.1, 11.1],[2.2, 22.2], [3.3, 33.3], [4.4, 44.4], [np.nan, 55]])"
   ]
  },
  {
   "cell_type": "code",
   "execution_count": 178,
   "id": "4e8096ba-5dad-45a3-9bbe-edd4d697cb2f",
   "metadata": {},
   "outputs": [
    {
     "data": {
      "text/plain": [
       "False"
      ]
     },
     "execution_count": 178,
     "metadata": {},
     "output_type": "execute_result"
    }
   ],
   "source": [
    "np.isnan(feature).any()"
   ]
  },
  {
   "cell_type": "code",
   "execution_count": 181,
   "id": "bad79ad6-7ab5-4bba-8059-e86b459514b7",
   "metadata": {},
   "outputs": [
    {
     "data": {
      "text/plain": [
       "0     True\n",
       "1    False\n",
       "dtype: bool"
      ]
     },
     "execution_count": 181,
     "metadata": {},
     "output_type": "execute_result"
    }
   ],
   "source": [
    "df = pd.DataFrame(features)\n",
    "df.isnull().any()"
   ]
  },
  {
   "cell_type": "code",
   "execution_count": 182,
   "id": "046e60fe-5dbe-4b42-9f73-33e3472cc8b8",
   "metadata": {},
   "outputs": [
    {
     "data": {
      "text/html": [
       "<div>\n",
       "<style scoped>\n",
       "    .dataframe tbody tr th:only-of-type {\n",
       "        vertical-align: middle;\n",
       "    }\n",
       "\n",
       "    .dataframe tbody tr th {\n",
       "        vertical-align: top;\n",
       "    }\n",
       "\n",
       "    .dataframe thead th {\n",
       "        text-align: right;\n",
       "    }\n",
       "</style>\n",
       "<table border=\"1\" class=\"dataframe\">\n",
       "  <thead>\n",
       "    <tr style=\"text-align: right;\">\n",
       "      <th></th>\n",
       "      <th>0</th>\n",
       "      <th>1</th>\n",
       "    </tr>\n",
       "  </thead>\n",
       "  <tbody>\n",
       "    <tr>\n",
       "      <th>0</th>\n",
       "      <td>1.1</td>\n",
       "      <td>11.1</td>\n",
       "    </tr>\n",
       "    <tr>\n",
       "      <th>1</th>\n",
       "      <td>2.2</td>\n",
       "      <td>22.2</td>\n",
       "    </tr>\n",
       "    <tr>\n",
       "      <th>2</th>\n",
       "      <td>3.3</td>\n",
       "      <td>33.3</td>\n",
       "    </tr>\n",
       "    <tr>\n",
       "      <th>3</th>\n",
       "      <td>4.4</td>\n",
       "      <td>44.4</td>\n",
       "    </tr>\n",
       "  </tbody>\n",
       "</table>\n",
       "</div>"
      ],
      "text/plain": [
       "     0     1\n",
       "0  1.1  11.1\n",
       "1  2.2  22.2\n",
       "2  3.3  33.3\n",
       "3  4.4  44.4"
      ]
     },
     "execution_count": 182,
     "metadata": {},
     "output_type": "execute_result"
    }
   ],
   "source": [
    "df.dropna()"
   ]
  },
  {
   "cell_type": "code",
   "execution_count": 184,
   "id": "a0cff9f1-b058-46d3-af5d-3fa043521b1e",
   "metadata": {},
   "outputs": [
    {
     "data": {
      "text/html": [
       "<div>\n",
       "<style scoped>\n",
       "    .dataframe tbody tr th:only-of-type {\n",
       "        vertical-align: middle;\n",
       "    }\n",
       "\n",
       "    .dataframe tbody tr th {\n",
       "        vertical-align: top;\n",
       "    }\n",
       "\n",
       "    .dataframe thead th {\n",
       "        text-align: right;\n",
       "    }\n",
       "</style>\n",
       "<table border=\"1\" class=\"dataframe\">\n",
       "  <thead>\n",
       "    <tr style=\"text-align: right;\">\n",
       "      <th></th>\n",
       "      <th>0</th>\n",
       "      <th>1</th>\n",
       "    </tr>\n",
       "  </thead>\n",
       "  <tbody>\n",
       "    <tr>\n",
       "      <th>0</th>\n",
       "      <td>1.1</td>\n",
       "      <td>11.1</td>\n",
       "    </tr>\n",
       "    <tr>\n",
       "      <th>1</th>\n",
       "      <td>2.2</td>\n",
       "      <td>22.2</td>\n",
       "    </tr>\n",
       "    <tr>\n",
       "      <th>2</th>\n",
       "      <td>3.3</td>\n",
       "      <td>33.3</td>\n",
       "    </tr>\n",
       "    <tr>\n",
       "      <th>3</th>\n",
       "      <td>4.4</td>\n",
       "      <td>44.4</td>\n",
       "    </tr>\n",
       "    <tr>\n",
       "      <th>4</th>\n",
       "      <td>4.4</td>\n",
       "      <td>55.0</td>\n",
       "    </tr>\n",
       "  </tbody>\n",
       "</table>\n",
       "</div>"
      ],
      "text/plain": [
       "     0     1\n",
       "0  1.1  11.1\n",
       "1  2.2  22.2\n",
       "2  3.3  33.3\n",
       "3  4.4  44.4\n",
       "4  4.4  55.0"
      ]
     },
     "execution_count": 184,
     "metadata": {},
     "output_type": "execute_result"
    }
   ],
   "source": [
    "df.fillna(method='ffill')"
   ]
  },
  {
   "cell_type": "code",
   "execution_count": null,
   "id": "9c39a270-6a81-479f-b526-5abf8495c24a",
   "metadata": {},
   "outputs": [],
   "source": []
  },
  {
   "cell_type": "markdown",
   "id": "15d5096a-26e9-4d00-98ab-e80c237c2dbc",
   "metadata": {},
   "source": [
    "# Imputing Missing Values"
   ]
  },
  {
   "cell_type": "code",
   "execution_count": 187,
   "id": "96138def-5210-4481-8bf0-b9d6d73751e1",
   "metadata": {},
   "outputs": [
    {
     "name": "stdout",
     "output_type": "stream",
     "text": [
      "Collecting fancyimpute\n",
      "  Downloading fancyimpute-0.7.0.tar.gz (25 kB)\n",
      "Collecting knnimpute>=0.1.0\n",
      "  Downloading knnimpute-0.1.0.tar.gz (8.3 kB)\n",
      "Requirement already satisfied: scikit-learn>=0.24.2 in /Users/david/opt/anaconda3/lib/python3.9/site-packages (from fancyimpute) (0.24.2)\n",
      "Collecting cvxpy\n",
      "  Downloading cvxpy-1.2.0-cp39-cp39-macosx_10_9_x86_64.whl (880 kB)\n",
      "\u001b[K     |████████████████████████████████| 880 kB 1.4 MB/s eta 0:00:01\n",
      "\u001b[?25hCollecting cvxopt\n",
      "  Downloading cvxopt-1.3.0-cp39-cp39-macosx_10_9_x86_64.whl (3.1 MB)\n",
      "\u001b[K     |████████████████████████████████| 3.1 MB 3.5 MB/s eta 0:00:01\n",
      "\u001b[?25hRequirement already satisfied: pytest in /Users/david/opt/anaconda3/lib/python3.9/site-packages (from fancyimpute) (6.2.4)\n",
      "Requirement already satisfied: nose in /Users/david/opt/anaconda3/lib/python3.9/site-packages (from fancyimpute) (1.3.7)\n",
      "Requirement already satisfied: six in /Users/david/opt/anaconda3/lib/python3.9/site-packages (from knnimpute>=0.1.0->fancyimpute) (1.16.0)\n",
      "Requirement already satisfied: numpy>=1.10 in /Users/david/opt/anaconda3/lib/python3.9/site-packages (from knnimpute>=0.1.0->fancyimpute) (1.20.3)\n",
      "Requirement already satisfied: threadpoolctl>=2.0.0 in /Users/david/opt/anaconda3/lib/python3.9/site-packages (from scikit-learn>=0.24.2->fancyimpute) (2.2.0)\n",
      "Requirement already satisfied: scipy>=0.19.1 in /Users/david/opt/anaconda3/lib/python3.9/site-packages (from scikit-learn>=0.24.2->fancyimpute) (1.7.1)\n",
      "Requirement already satisfied: joblib>=0.11 in /Users/david/opt/anaconda3/lib/python3.9/site-packages (from scikit-learn>=0.24.2->fancyimpute) (1.1.0)\n",
      "Collecting scs>=1.1.6\n",
      "  Downloading scs-3.2.0-cp39-cp39-macosx_10_9_x86_64.whl (11.4 MB)\n",
      "\u001b[K     |████████████████████████████████| 11.4 MB 4.0 MB/s eta 0:00:01\n",
      "\u001b[?25hCollecting ecos>=2\n",
      "  Downloading ecos-2.0.10-cp39-cp39-macosx_10_9_x86_64.whl (88 kB)\n",
      "\u001b[K     |████████████████████████████████| 88 kB 3.7 MB/s eta 0:00:01\n",
      "\u001b[?25hCollecting osqp>=0.4.1\n",
      "  Downloading osqp-0.6.2.post5-cp39-cp39-macosx_10_9_x86_64.whl (249 kB)\n",
      "\u001b[K     |████████████████████████████████| 249 kB 3.0 MB/s eta 0:00:01\n",
      "\u001b[?25hCollecting qdldl\n",
      "  Downloading qdldl-0.1.5.post2-cp39-cp39-macosx_10_9_x86_64.whl (98 kB)\n",
      "\u001b[K     |████████████████████████████████| 98 kB 3.4 MB/s eta 0:00:01\n",
      "\u001b[?25hRequirement already satisfied: attrs>=19.2.0 in /Users/david/opt/anaconda3/lib/python3.9/site-packages (from pytest->fancyimpute) (21.2.0)\n",
      "Requirement already satisfied: iniconfig in /Users/david/opt/anaconda3/lib/python3.9/site-packages (from pytest->fancyimpute) (1.1.1)\n",
      "Requirement already satisfied: packaging in /Users/david/opt/anaconda3/lib/python3.9/site-packages (from pytest->fancyimpute) (21.0)\n",
      "Requirement already satisfied: pluggy<1.0.0a1,>=0.12 in /Users/david/opt/anaconda3/lib/python3.9/site-packages (from pytest->fancyimpute) (0.13.1)\n",
      "Requirement already satisfied: py>=1.8.2 in /Users/david/opt/anaconda3/lib/python3.9/site-packages (from pytest->fancyimpute) (1.10.0)\n",
      "Requirement already satisfied: toml in /Users/david/opt/anaconda3/lib/python3.9/site-packages (from pytest->fancyimpute) (0.10.2)\n",
      "Requirement already satisfied: pyparsing>=2.0.2 in /Users/david/opt/anaconda3/lib/python3.9/site-packages (from packaging->pytest->fancyimpute) (3.0.4)\n",
      "Building wheels for collected packages: fancyimpute, knnimpute\n",
      "  Building wheel for fancyimpute (setup.py) ... \u001b[?25ldone\n",
      "\u001b[?25h  Created wheel for fancyimpute: filename=fancyimpute-0.7.0-py3-none-any.whl size=29899 sha256=49a5f53f73290838cff12e32161f312a93a1bb995b645eb22d864cbcf62d5d7b\n",
      "  Stored in directory: /Users/david/Library/Caches/pip/wheels/f9/fc/6a/b0406b906bce293abe23c3b6da5a72637d2d04146ef1125a0b\n",
      "  Building wheel for knnimpute (setup.py) ... \u001b[?25ldone\n",
      "\u001b[?25h  Created wheel for knnimpute: filename=knnimpute-0.1.0-py3-none-any.whl size=11353 sha256=b0e90cae1c4f5ef6e0476c36a597154d1ff8e25882263eb38f7b6fd500494537\n",
      "  Stored in directory: /Users/david/Library/Caches/pip/wheels/88/c4/be/e232c750d9bc360abf9a5e2cafe0d3e08e3605d2801bb11684\n",
      "Successfully built fancyimpute knnimpute\n",
      "Installing collected packages: qdldl, scs, osqp, ecos, knnimpute, cvxpy, cvxopt, fancyimpute\n",
      "Successfully installed cvxopt-1.3.0 cvxpy-1.2.0 ecos-2.0.10 fancyimpute-0.7.0 knnimpute-0.1.0 osqp-0.6.2.post5 qdldl-0.1.5.post2 scs-3.2.0\n",
      "Note: you may need to restart the kernel to use updated packages.\n"
     ]
    }
   ],
   "source": [
    "pip install fancyimpute"
   ]
  },
  {
   "cell_type": "code",
   "execution_count": 207,
   "id": "2030447f-6120-4963-8094-f5bd998fd622",
   "metadata": {},
   "outputs": [],
   "source": [
    "from fancyimpute import KNN\n",
    "from sklearn.preprocessing import StandardScaler"
   ]
  },
  {
   "cell_type": "code",
   "execution_count": 203,
   "id": "4386e546-ba59-4108-a62c-2deee3d9d1b5",
   "metadata": {},
   "outputs": [],
   "source": [
    "X,y = make_blobs(n_samples=1000, n_features=3, centers=3,random_state=1)"
   ]
  },
  {
   "cell_type": "code",
   "execution_count": 204,
   "id": "9a9b34a9-5276-4b82-af55-4e0c888cf63b",
   "metadata": {},
   "outputs": [
    {
     "data": {
      "text/plain": [
       "<matplotlib.collections.PathCollection at 0x7f81ca2da5e0>"
      ]
     },
     "execution_count": 204,
     "metadata": {},
     "output_type": "execute_result"
    },
    {
     "data": {
      "image/png": "[encoded data removed]",
      "text/plain": [
       "<Figure size 432x288 with 1 Axes>"
      ]
     },
     "metadata": {
      "needs_background": "light"
     },
     "output_type": "display_data"
    }
   ],
   "source": [
    "plt.scatter(X[:,0], X[:,1],c=y)"
   ]
  },
  {
   "cell_type": "code",
   "execution_count": 208,
   "id": "d9d38fea-ffc0-421b-9e32-f0a1c79d98f2",
   "metadata": {},
   "outputs": [],
   "source": [
    "scaler = StandardScaler()"
   ]
  },
  {
   "cell_type": "code",
   "execution_count": 210,
   "id": "e331e800-5aac-401c-aeba-8c329d2937f9",
   "metadata": {},
   "outputs": [],
   "source": [
    "scalered_X = scaler.fit_transform(X)"
   ]
  },
  {
   "cell_type": "code",
   "execution_count": 211,
   "id": "c95b57df-d1af-4caa-846f-6d50df4dd27a",
   "metadata": {},
   "outputs": [],
   "source": [
    "true_value = scalered_X[0,0]"
   ]
  },
  {
   "cell_type": "code",
   "execution_count": 212,
   "id": "24518599-dcab-4481-bdca-2550352a6c3b",
   "metadata": {},
   "outputs": [],
   "source": [
    "scalered_X[0,0]=np.nan"
   ]
  },
  {
   "cell_type": "code",
   "execution_count": 215,
   "id": "28cd5bfe-880e-4623-887f-3068ecd50c54",
   "metadata": {},
   "outputs": [
    {
     "name": "stdout",
     "output_type": "stream",
     "text": [
      "Imputing row 1/1000 with 1 missing, elapsed time: 0.122\n",
      "Imputing row 101/1000 with 0 missing, elapsed time: 0.131\n",
      "Imputing row 201/1000 with 0 missing, elapsed time: 0.131\n",
      "Imputing row 301/1000 with 0 missing, elapsed time: 0.131\n",
      "Imputing row 401/1000 with 0 missing, elapsed time: 0.131\n",
      "Imputing row 501/1000 with 0 missing, elapsed time: 0.132\n",
      "Imputing row 601/1000 with 0 missing, elapsed time: 0.132\n",
      "Imputing row 701/1000 with 0 missing, elapsed time: 0.132\n",
      "Imputing row 801/1000 with 0 missing, elapsed time: 0.132\n",
      "Imputing row 901/1000 with 0 missing, elapsed time: 0.133\n"
     ]
    }
   ],
   "source": [
    "imputed = KNN(k=5, verbose=True).fit_transform(scalered_X)"
   ]
  },
  {
   "cell_type": "code",
   "execution_count": 218,
   "id": "a1494124-d58c-4111-a497-d89f7f79c56a",
   "metadata": {},
   "outputs": [
    {
     "data": {
      "text/plain": [
       "<matplotlib.collections.PathCollection at 0x7f81ca691c10>"
      ]
     },
     "execution_count": 218,
     "metadata": {},
     "output_type": "execute_result"
    },
    {
     "data": {
      "image/png": "[encoded data removed]",
      "text/plain": [
       "<Figure size 432x288 with 1 Axes>"
      ]
     },
     "metadata": {
      "needs_background": "light"
     },
     "output_type": "display_data"
    }
   ],
   "source": [
    "plt.scatter(scalered_X[:,0], scalered_X[:,1],c=y)"
   ]
  },
  {
   "cell_type": "code",
   "execution_count": 216,
   "id": "20caad9e-a587-4430-83a5-0317dd1542c3",
   "metadata": {},
   "outputs": [
    {
     "name": "stdout",
     "output_type": "stream",
     "text": [
      "1.1307396879340232\n"
     ]
    }
   ],
   "source": [
    "print(imputed[0,0])"
   ]
  },
  {
   "cell_type": "code",
   "execution_count": 217,
   "id": "7275d677-d4ae-4197-a736-49096de8bad5",
   "metadata": {},
   "outputs": [
    {
     "name": "stdout",
     "output_type": "stream",
     "text": [
      "1.0268022656121025\n"
     ]
    }
   ],
   "source": [
    "print(true_value)"
   ]
  },
  {
   "cell_type": "code",
   "execution_count": null,
   "id": "fdd20d2d-dd10-4e63-a3f6-f84341cea4e1",
   "metadata": {},
   "outputs": [],
   "source": []
  },
  {
   "cell_type": "code",
   "execution_count": null,
   "id": "53492fb9-443f-47ee-9b3e-0ef215820b9f",
   "metadata": {},
   "outputs": [],
   "source": []
  },
  {
   "cell_type": "code",
   "execution_count": 224,
   "id": "76c0b446-cbd3-471c-8351-7326cefda135",
   "metadata": {},
   "outputs": [],
   "source": [
    "from sklearn.impute import SimpleImputer"
   ]
  },
  {
   "cell_type": "code",
   "execution_count": 225,
   "id": "1b882038-041c-402e-a64c-7104aabb0d22",
   "metadata": {},
   "outputs": [],
   "source": [
    "model = SimpleImputer(strategy = 'mean')"
   ]
  },
  {
   "cell_type": "code",
   "execution_count": 226,
   "id": "268000c3-1da0-4eff-9d07-d428c57a1333",
   "metadata": {},
   "outputs": [],
   "source": [
    "new_X = model.fit_transform(X)"
   ]
  },
  {
   "cell_type": "code",
   "execution_count": 228,
   "id": "57b99fe1-e46b-4569-be4b-a2f37d836fd5",
   "metadata": {},
   "outputs": [
    {
     "data": {
      "text/plain": [
       "1.0268022656121025"
      ]
     },
     "execution_count": 228,
     "metadata": {},
     "output_type": "execute_result"
    }
   ],
   "source": [
    "true_value"
   ]
  },
  {
   "cell_type": "code",
   "execution_count": 229,
   "id": "f18399cc-9ff6-445a-8eaa-4135ba35b279",
   "metadata": {},
   "outputs": [
    {
     "data": {
      "text/plain": [
       "-1.7853194026358656"
      ]
     },
     "execution_count": 229,
     "metadata": {},
     "output_type": "execute_result"
    }
   ],
   "source": [
    "new_X[0,0]"
   ]
  },
  {
   "cell_type": "code",
   "execution_count": null,
   "id": "a82476ee-0ac4-4d27-8188-f49d33c385eb",
   "metadata": {},
   "outputs": [],
   "source": []
  }
 ],
 "metadata": {
  "kernelspec": {
   "display_name": "Python 3 (ipykernel)",
   "language": "python",
   "name": "python3"
  },
  "language_info": {
   "codemirror_mode": {
    "name": "ipython",
    "version": 3
   },
   "file_extension": ".py",
   "mimetype": "text/x-python",
   "name": "python",
   "nbconvert_exporter": "python",
   "pygments_lexer": "ipython3",
   "version": "3.9.7"
  }
 },
 "nbformat": 4,
 "nbformat_minor": 5
}
