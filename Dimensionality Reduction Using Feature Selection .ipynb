{
 "cells": [
  {
   "cell_type": "markdown",
   "id": "2158d0f9-a320-4a83-a02f-3e40058af190",
   "metadata": {},
   "source": [
    "# Thresholding Numerical Feature Variance"
   ]
  },
  {
   "cell_type": "code",
   "execution_count": 2,
   "id": "dc5c850f-42d1-4cf4-a392-4bf1abfbdd64",
   "metadata": {},
   "outputs": [],
   "source": [
    "from matplotlib import pyplot as plt\n",
    "import numpy as np\n",
    "import pandas as pd\n",
    "import seaborn as sns\n",
    "%matplotlib inline"
   ]
  },
  {
   "cell_type": "code",
   "execution_count": 5,
   "id": "8a40eea3-5b3e-48cb-b4c2-91c85235876d",
   "metadata": {},
   "outputs": [],
   "source": [
    "from sklearn.datasets import load_iris\n",
    "from sklearn.feature_selection import VarianceThreshold"
   ]
  },
  {
   "cell_type": "code",
   "execution_count": 7,
   "id": "63895058-3eb2-46cb-b4d6-9725acc8d431",
   "metadata": {},
   "outputs": [],
   "source": [
    "features = load_iris().data"
   ]
  },
  {
   "cell_type": "code",
   "execution_count": 17,
   "id": "9ff78da7-6490-466c-87ba-1f5fee154326",
   "metadata": {},
   "outputs": [],
   "source": [
    "model = VarianceThreshold(threshold = 0.6)"
   ]
  },
  {
   "cell_type": "code",
   "execution_count": 18,
   "id": "333469c7-a44a-4e1a-b2a7-3ec17e27939b",
   "metadata": {},
   "outputs": [
    {
     "data": {
      "text/plain": [
       "(150, 4)"
      ]
     },
     "execution_count": 18,
     "metadata": {},
     "output_type": "execute_result"
    }
   ],
   "source": [
    "features.shape"
   ]
  },
  {
   "cell_type": "code",
   "execution_count": 19,
   "id": "5c7a4fbb-9097-471e-a139-bcf18e45e762",
   "metadata": {},
   "outputs": [
    {
     "data": {
      "text/plain": [
       "(150, 2)"
      ]
     },
     "execution_count": 19,
     "metadata": {},
     "output_type": "execute_result"
    }
   ],
   "source": [
    "model.fit_transform(features).shape"
   ]
  },
  {
   "cell_type": "code",
   "execution_count": 20,
   "id": "31bd6d12-5976-4f09-b2d9-46f050bab573",
   "metadata": {},
   "outputs": [
    {
     "data": {
      "text/plain": [
       "array([0.68112222, 0.18871289, 3.09550267, 0.57713289])"
      ]
     },
     "execution_count": 20,
     "metadata": {},
     "output_type": "execute_result"
    }
   ],
   "source": [
    "model.fit(features).variances_"
   ]
  },
  {
   "cell_type": "code",
   "execution_count": null,
   "id": "ee7bc2da-dbef-4ab7-9c37-28e19f70190f",
   "metadata": {},
   "outputs": [],
   "source": [
    "#if the features have been standardized (to mean zero and unit variance) \n",
    "#then for obvious reasons variance thresholding will not work correctly:"
   ]
  },
  {
   "cell_type": "code",
   "execution_count": 21,
   "id": "b4a79a13-5999-4d14-85ba-b5d4b014fe72",
   "metadata": {},
   "outputs": [],
   "source": [
    "from sklearn.preprocessing import StandardScaler"
   ]
  },
  {
   "cell_type": "code",
   "execution_count": 22,
   "id": "c5a50a05-1f53-4c74-bda5-bff9337a1c85",
   "metadata": {},
   "outputs": [],
   "source": [
    "scaler = StandardScaler()"
   ]
  },
  {
   "cell_type": "code",
   "execution_count": 24,
   "id": "58c0d395-a7ae-45e0-84bb-0cf6a7dc5d10",
   "metadata": {},
   "outputs": [],
   "source": [
    "newfeatures = scaler.fit_transform(features)"
   ]
  },
  {
   "cell_type": "code",
   "execution_count": 25,
   "id": "9e92486d-79ec-4d4d-8430-cfdb3b6c2318",
   "metadata": {},
   "outputs": [
    {
     "data": {
      "text/plain": [
       "array([1., 1., 1., 1.])"
      ]
     },
     "execution_count": 25,
     "metadata": {},
     "output_type": "execute_result"
    }
   ],
   "source": [
    "model.fit(newfeatures).variances_"
   ]
  },
  {
   "cell_type": "code",
   "execution_count": null,
   "id": "970fe3f0-184a-4048-b076-0664f1f770a6",
   "metadata": {},
   "outputs": [],
   "source": []
  },
  {
   "cell_type": "markdown",
   "id": "f62ebe3d-508b-4412-a079-6bbd9267c5ec",
   "metadata": {},
   "source": [
    "# Thresholding Binary Feature Variance"
   ]
  },
  {
   "cell_type": "code",
   "execution_count": 26,
   "id": "95f033b7-5870-443d-8904-56e74e031990",
   "metadata": {},
   "outputs": [],
   "source": [
    "# Var x = p(1 − p) , p is the proportion of observations of class."
   ]
  },
  {
   "cell_type": "code",
   "execution_count": 30,
   "id": "82a31f31-52a3-4a3a-9650-07c6cd961ae4",
   "metadata": {},
   "outputs": [],
   "source": [
    "features2 = [[0, 1, 0],\n",
    "             [0, 1, 1],\n",
    "             [0, 1, 0], \n",
    "             [0, 1, 1], \n",
    "             [1, 0, 0]]"
   ]
  },
  {
   "cell_type": "code",
   "execution_count": 39,
   "id": "aa383aa5-1a6d-4fd0-8e2d-038ba5da4499",
   "metadata": {},
   "outputs": [],
   "source": [
    "thresholder = VarianceThreshold(threshold=0.6*(1-0.6)) # keep feature that has one class less than or equal to 60% "
   ]
  },
  {
   "cell_type": "code",
   "execution_count": 40,
   "id": "5c0d9302-b786-433b-be13-2a540f0d6642",
   "metadata": {},
   "outputs": [
    {
     "data": {
      "text/plain": [
       "array([[0],\n",
       "       [1],\n",
       "       [0],\n",
       "       [1],\n",
       "       [0]])"
      ]
     },
     "execution_count": 40,
     "metadata": {},
     "output_type": "execute_result"
    }
   ],
   "source": [
    "thresholder.fit_transform(features2)"
   ]
  },
  {
   "cell_type": "code",
   "execution_count": null,
   "id": "a36b129c-8e14-46b6-8e97-45a4825d9b99",
   "metadata": {},
   "outputs": [],
   "source": []
  },
  {
   "cell_type": "code",
   "execution_count": null,
   "id": "bd5e22a2-6f58-4d13-a6d7-bffd62a561df",
   "metadata": {},
   "outputs": [],
   "source": []
  },
  {
   "cell_type": "markdown",
   "id": "82cf27b4-9734-4dd0-826a-bf84d94a17bc",
   "metadata": {},
   "source": [
    "# Handling Highly Correlated Features"
   ]
  },
  {
   "cell_type": "code",
   "execution_count": 42,
   "id": "af3f394d-685c-4ab1-b1d1-39beb8df8554",
   "metadata": {},
   "outputs": [],
   "source": [
    "features3 = np.array([[1, 1, 1],\n",
    "                     [2, 2, 0], \n",
    "                     [3, 3, 1], \n",
    "                     [4, 4, 0], \n",
    "                     [5, 5, 1], \n",
    "                     [6, 6, 0], \n",
    "                     [7, 7, 1], \n",
    "                     [8, 7, 0],\n",
    "                     [9, 7, 1]])"
   ]
  },
  {
   "cell_type": "code",
   "execution_count": 43,
   "id": "2dedefad-345f-4d7b-ae4f-2d2127eb80cd",
   "metadata": {},
   "outputs": [],
   "source": [
    "df = pd.DataFrame(features3)"
   ]
  },
  {
   "cell_type": "code",
   "execution_count": 47,
   "id": "0e04e73b-b8c7-43eb-b3bc-415edca9ab03",
   "metadata": {},
   "outputs": [
    {
     "data": {
      "text/html": [
       "<div>\n",
       "<style scoped>\n",
       "    .dataframe tbody tr th:only-of-type {\n",
       "        vertical-align: middle;\n",
       "    }\n",
       "\n",
       "    .dataframe tbody tr th {\n",
       "        vertical-align: top;\n",
       "    }\n",
       "\n",
       "    .dataframe thead th {\n",
       "        text-align: right;\n",
       "    }\n",
       "</style>\n",
       "<table border=\"1\" class=\"dataframe\">\n",
       "  <thead>\n",
       "    <tr style=\"text-align: right;\">\n",
       "      <th></th>\n",
       "      <th>0</th>\n",
       "      <th>1</th>\n",
       "      <th>2</th>\n",
       "    </tr>\n",
       "  </thead>\n",
       "  <tbody>\n",
       "    <tr>\n",
       "      <th>0</th>\n",
       "      <td>1.000000</td>\n",
       "      <td>0.976103</td>\n",
       "      <td>0.000000</td>\n",
       "    </tr>\n",
       "    <tr>\n",
       "      <th>1</th>\n",
       "      <td>0.976103</td>\n",
       "      <td>1.000000</td>\n",
       "      <td>-0.034503</td>\n",
       "    </tr>\n",
       "    <tr>\n",
       "      <th>2</th>\n",
       "      <td>0.000000</td>\n",
       "      <td>-0.034503</td>\n",
       "      <td>1.000000</td>\n",
       "    </tr>\n",
       "  </tbody>\n",
       "</table>\n",
       "</div>"
      ],
      "text/plain": [
       "          0         1         2\n",
       "0  1.000000  0.976103  0.000000\n",
       "1  0.976103  1.000000 -0.034503\n",
       "2  0.000000 -0.034503  1.000000"
      ]
     },
     "execution_count": 47,
     "metadata": {},
     "output_type": "execute_result"
    }
   ],
   "source": [
    "df.corr()"
   ]
  },
  {
   "cell_type": "code",
   "execution_count": 48,
   "id": "3c9f0629-2006-4eae-878c-94271b313f14",
   "metadata": {},
   "outputs": [],
   "source": [
    "corr_matrix = df.corr().abs()"
   ]
  },
  {
   "cell_type": "code",
   "execution_count": 53,
   "id": "03bd5393-66c8-4eb6-ac48-44ee5f188ebf",
   "metadata": {},
   "outputs": [
    {
     "name": "stderr",
     "output_type": "stream",
     "text": [
      "/var/folders/6h/5k5kd9fs35d2zrg3xjk3d2g80000gn/T/ipykernel_42244/2665302050.py:1: DeprecationWarning: `np.bool` is a deprecated alias for the builtin `bool`. To silence this warning, use `bool` by itself. Doing this will not modify any behavior and is safe. If you specifically wanted the numpy scalar type, use `np.bool_` here.\n",
      "Deprecated in NumPy 1.20; for more details and guidance: https://numpy.org/devdocs/release/1.20.0-notes.html#deprecations\n",
      "  upper = corr_matrix.where(np.triu(np.ones(corr_matrix.shape), k=1).astype(np.bool))\n"
     ]
    }
   ],
   "source": [
    "upper = corr_matrix.where(np.triu(np.ones(corr_matrix.shape), k=1).astype(np.bool)) # intersting "
   ]
  },
  {
   "cell_type": "code",
   "execution_count": 54,
   "id": "8b4ba660-0ab7-443a-8924-55408a11ddfd",
   "metadata": {},
   "outputs": [
    {
     "data": {
      "text/html": [
       "<div>\n",
       "<style scoped>\n",
       "    .dataframe tbody tr th:only-of-type {\n",
       "        vertical-align: middle;\n",
       "    }\n",
       "\n",
       "    .dataframe tbody tr th {\n",
       "        vertical-align: top;\n",
       "    }\n",
       "\n",
       "    .dataframe thead th {\n",
       "        text-align: right;\n",
       "    }\n",
       "</style>\n",
       "<table border=\"1\" class=\"dataframe\">\n",
       "  <thead>\n",
       "    <tr style=\"text-align: right;\">\n",
       "      <th></th>\n",
       "      <th>0</th>\n",
       "      <th>1</th>\n",
       "      <th>2</th>\n",
       "    </tr>\n",
       "  </thead>\n",
       "  <tbody>\n",
       "    <tr>\n",
       "      <th>0</th>\n",
       "      <td>NaN</td>\n",
       "      <td>0.976103</td>\n",
       "      <td>0.000000</td>\n",
       "    </tr>\n",
       "    <tr>\n",
       "      <th>1</th>\n",
       "      <td>NaN</td>\n",
       "      <td>NaN</td>\n",
       "      <td>0.034503</td>\n",
       "    </tr>\n",
       "    <tr>\n",
       "      <th>2</th>\n",
       "      <td>NaN</td>\n",
       "      <td>NaN</td>\n",
       "      <td>NaN</td>\n",
       "    </tr>\n",
       "  </tbody>\n",
       "</table>\n",
       "</div>"
      ],
      "text/plain": [
       "    0         1         2\n",
       "0 NaN  0.976103  0.000000\n",
       "1 NaN       NaN  0.034503\n",
       "2 NaN       NaN       NaN"
      ]
     },
     "execution_count": 54,
     "metadata": {},
     "output_type": "execute_result"
    }
   ],
   "source": [
    "upper"
   ]
  },
  {
   "cell_type": "code",
   "execution_count": 56,
   "id": "49b892c4-a972-447b-bd50-637c5aa8e090",
   "metadata": {},
   "outputs": [],
   "source": [
    "to_drop = [column for column in upper.columns if any(upper[column]>0.95)]"
   ]
  },
  {
   "cell_type": "code",
   "execution_count": 58,
   "id": "9631b489-3845-493c-ae4d-f9135c0859bf",
   "metadata": {},
   "outputs": [
    {
     "data": {
      "text/plain": [
       "[1]"
      ]
     },
     "execution_count": 58,
     "metadata": {},
     "output_type": "execute_result"
    }
   ],
   "source": [
    "to_drop"
   ]
  },
  {
   "cell_type": "code",
   "execution_count": 62,
   "id": "8bbd5c63-65be-4127-a7c1-5e60b542314a",
   "metadata": {},
   "outputs": [
    {
     "data": {
      "text/html": [
       "<div>\n",
       "<style scoped>\n",
       "    .dataframe tbody tr th:only-of-type {\n",
       "        vertical-align: middle;\n",
       "    }\n",
       "\n",
       "    .dataframe tbody tr th {\n",
       "        vertical-align: top;\n",
       "    }\n",
       "\n",
       "    .dataframe thead th {\n",
       "        text-align: right;\n",
       "    }\n",
       "</style>\n",
       "<table border=\"1\" class=\"dataframe\">\n",
       "  <thead>\n",
       "    <tr style=\"text-align: right;\">\n",
       "      <th></th>\n",
       "      <th>0</th>\n",
       "      <th>2</th>\n",
       "    </tr>\n",
       "  </thead>\n",
       "  <tbody>\n",
       "    <tr>\n",
       "      <th>0</th>\n",
       "      <td>1</td>\n",
       "      <td>1</td>\n",
       "    </tr>\n",
       "    <tr>\n",
       "      <th>1</th>\n",
       "      <td>2</td>\n",
       "      <td>0</td>\n",
       "    </tr>\n",
       "    <tr>\n",
       "      <th>2</th>\n",
       "      <td>3</td>\n",
       "      <td>1</td>\n",
       "    </tr>\n",
       "    <tr>\n",
       "      <th>3</th>\n",
       "      <td>4</td>\n",
       "      <td>0</td>\n",
       "    </tr>\n",
       "    <tr>\n",
       "      <th>4</th>\n",
       "      <td>5</td>\n",
       "      <td>1</td>\n",
       "    </tr>\n",
       "  </tbody>\n",
       "</table>\n",
       "</div>"
      ],
      "text/plain": [
       "   0  2\n",
       "0  1  1\n",
       "1  2  0\n",
       "2  3  1\n",
       "3  4  0\n",
       "4  5  1"
      ]
     },
     "execution_count": 62,
     "metadata": {},
     "output_type": "execute_result"
    }
   ],
   "source": [
    "df.drop(to_drop, axis=1).head()"
   ]
  },
  {
   "cell_type": "markdown",
   "id": "0096c8df-3f56-41f4-ae40-ea8ee58479f4",
   "metadata": {},
   "source": [
    "# Removing Irrelevant Features for Classification"
   ]
  },
  {
   "cell_type": "code",
   "execution_count": 63,
   "id": "7b3134f5-021d-4f4b-9719-f70173bfa8b9",
   "metadata": {},
   "outputs": [],
   "source": [
    "from sklearn.datasets import load_iris\n",
    "from sklearn.feature_selection import SelectKBest\n",
    "from sklearn.feature_selection import chi2, f_classif"
   ]
  },
  {
   "cell_type": "code",
   "execution_count": 65,
   "id": "911c6237-6d13-4218-b094-401cf7bdf712",
   "metadata": {},
   "outputs": [
    {
     "data": {
      "text/plain": [
       "array(['setosa', 'versicolor', 'virginica'], dtype='<U10')"
      ]
     },
     "execution_count": 65,
     "metadata": {},
     "output_type": "execute_result"
    }
   ],
   "source": [
    "iris = load_iris()\n",
    "features4 = iris.data\n",
    "target4 = iris.target\n",
    "iris.target_names"
   ]
  },
  {
   "cell_type": "markdown",
   "id": "4980eda5-ed8e-4adf-addc-288c61bbd5cf",
   "metadata": {},
   "source": [
    "### If the features are categorical, calculate a chi-square (χ2 ) statistic between each feature and the target vector"
   ]
  },
  {
   "cell_type": "code",
   "execution_count": 67,
   "id": "0b2a7c2d-30a3-40bd-9bd4-647421c24622",
   "metadata": {},
   "outputs": [
    {
     "data": {
      "text/plain": [
       "dtype('float64')"
      ]
     },
     "execution_count": 67,
     "metadata": {},
     "output_type": "execute_result"
    }
   ],
   "source": [
    "features4.dtype"
   ]
  },
  {
   "cell_type": "code",
   "execution_count": 76,
   "id": "ab07fc7d-3880-4910-b5d8-dfbccd4d0fd0",
   "metadata": {},
   "outputs": [
    {
     "data": {
      "text/plain": [
       "(150, 4)"
      ]
     },
     "execution_count": 76,
     "metadata": {},
     "output_type": "execute_result"
    }
   ],
   "source": [
    "features4 = features4.astype(int)\n",
    "features4.shape"
   ]
  },
  {
   "cell_type": "code",
   "execution_count": 75,
   "id": "f75417ee-cdf9-44a1-8888-d87f51910878",
   "metadata": {},
   "outputs": [
    {
     "data": {
      "text/plain": [
       "(150, 2)"
      ]
     },
     "execution_count": 75,
     "metadata": {},
     "output_type": "execute_result"
    }
   ],
   "source": [
    "chi2_selector = SelectKBest(chi2, k=2)\n",
    "new_features4 = chi2_selector.fit_transform(features4, target4)\n",
    "new_features4.shape"
   ]
  },
  {
   "cell_type": "markdown",
   "id": "4852802f-3c8b-4edb-82e2-167bcc7cfdbf",
   "metadata": {},
   "source": [
    "### If the features are quantitative, compute the ANOVA F-value between each feature and the target vector"
   ]
  },
  {
   "cell_type": "code",
   "execution_count": 77,
   "id": "da59b09c-f0c0-4076-bad0-b4f651d316bf",
   "metadata": {},
   "outputs": [],
   "source": [
    "F_selector = SelectKBest(f_classif, k=2)\n",
    "features4_new = F_selector.fit_transform(features4, target4)"
   ]
  },
  {
   "cell_type": "code",
   "execution_count": 79,
   "id": "7e365c00-180e-43c8-b76b-ba0f4a65b57e",
   "metadata": {},
   "outputs": [
    {
     "data": {
      "text/plain": [
       "(150, 2)"
      ]
     },
     "execution_count": 79,
     "metadata": {},
     "output_type": "execute_result"
    }
   ],
   "source": [
    "features4_new.shape"
   ]
  },
  {
   "cell_type": "markdown",
   "id": "ae07eb58-b6af-4f05-ad9b-9b9470e627eb",
   "metadata": {},
   "source": [
    "### Instead of selecting a specific number of features, we can also use SelectPercentile to select the top n percent of features:"
   ]
  },
  {
   "cell_type": "code",
   "execution_count": 82,
   "id": "165cba85-56dc-4e71-b99c-c4bfb839742b",
   "metadata": {},
   "outputs": [],
   "source": [
    "from sklearn.feature_selection import SelectPercentile"
   ]
  },
  {
   "cell_type": "code",
   "execution_count": 83,
   "id": "16b85122-9b9f-4bf3-aad5-f7a685565aa6",
   "metadata": {},
   "outputs": [],
   "source": [
    "F2_selector = SelectPercentile(f_classif, percentile=75)\n",
    "percentile_feature = F2_selector.fit_transform(features4, target4)"
   ]
  },
  {
   "cell_type": "code",
   "execution_count": 84,
   "id": "63121351-9e87-4cca-bef2-fe78537f57f7",
   "metadata": {},
   "outputs": [
    {
     "data": {
      "text/plain": [
       "(150, 3)"
      ]
     },
     "execution_count": 84,
     "metadata": {},
     "output_type": "execute_result"
    }
   ],
   "source": [
    "percentile_feature.shape"
   ]
  },
  {
   "cell_type": "markdown",
   "id": "4981edc8-6229-4151-9961-b79614dbed04",
   "metadata": {},
   "source": [
    "# Recursively Eliminating Features"
   ]
  },
  {
   "cell_type": "code",
   "execution_count": 2,
   "id": "76c39915-47e0-4de4-b191-23b729a97fb4",
   "metadata": {},
   "outputs": [],
   "source": [
    "from sklearn.feature_selection import RFECV\n",
    "from sklearn.datasets import make_regression\n",
    "from sklearn.linear_model import LinearRegression"
   ]
  },
  {
   "cell_type": "code",
   "execution_count": 3,
   "id": "69d8a55a-0fe0-4adb-9d38-ebc7bbdfd6e4",
   "metadata": {},
   "outputs": [],
   "source": [
    "features, target = make_regression(n_samples = 10000, n_features = 100, n_informative = 2,random_state = 1)"
   ]
  },
  {
   "cell_type": "code",
   "execution_count": 90,
   "id": "ac32c12f-f87d-407a-948c-ce2286b80e74",
   "metadata": {},
   "outputs": [],
   "source": [
    "Linearmodel = LinearRegression()"
   ]
  },
  {
   "cell_type": "code",
   "execution_count": 99,
   "id": "e13be497-87d3-4aba-8bbf-318829846726",
   "metadata": {},
   "outputs": [],
   "source": [
    "modelRFE = RFECV(estimator = Linearmodel, step=1, scoring =\"neg_mean_squared_error\", cv=8)"
   ]
  },
  {
   "cell_type": "code",
   "execution_count": 100,
   "id": "a5c4e236-3bba-4d5f-bcef-4bee1d714bc7",
   "metadata": {},
   "outputs": [
    {
     "data": {
      "text/plain": [
       "(10000, 2)"
      ]
     },
     "execution_count": 100,
     "metadata": {},
     "output_type": "execute_result"
    }
   ],
   "source": [
    "modelRFE.fit(features, target).transform(features).shape"
   ]
  },
  {
   "cell_type": "code",
   "execution_count": 101,
   "id": "187f353e-1238-425e-b881-776c1edbbd23",
   "metadata": {},
   "outputs": [
    {
     "data": {
      "text/plain": [
       "array([False, False, False, False, False,  True, False, False, False,\n",
       "       False, False, False, False, False, False, False, False, False,\n",
       "       False, False, False, False, False, False, False, False, False,\n",
       "       False, False, False, False, False, False, False, False, False,\n",
       "       False, False, False,  True, False, False, False, False, False,\n",
       "       False, False, False, False, False, False, False, False, False,\n",
       "       False, False, False, False, False, False, False, False, False,\n",
       "       False, False, False, False, False, False, False, False, False,\n",
       "       False, False, False, False, False, False, False, False, False,\n",
       "       False, False, False, False, False, False, False, False, False,\n",
       "       False, False, False, False, False, False, False, False, False,\n",
       "       False])"
      ]
     },
     "execution_count": 101,
     "metadata": {},
     "output_type": "execute_result"
    }
   ],
   "source": [
    "modelRFE.support_"
   ]
  },
  {
   "cell_type": "code",
   "execution_count": 106,
   "id": "95f93e56-d5a4-4c9d-a4cb-0d3b9993fe92",
   "metadata": {},
   "outputs": [
    {
     "data": {
      "text/plain": [
       "array([55, 29, 86, 94, 78,  1, 59, 83,  4, 17,  6, 67, 80, 48, 39, 11, 26,\n",
       "       45, 13, 40, 35, 24, 60,  8, 37, 56, 49, 46, 57, 91, 12, 70,  2, 16,\n",
       "       79, 92, 73, 87, 66,  1, 81, 41, 74, 97, 36, 19, 95, 88, 54, 69, 72,\n",
       "       53, 61, 28,  9,  3, 58, 82, 33, 76, 43, 47, 10, 63, 23, 99, 32, 34,\n",
       "       18, 77, 64, 96, 90,  5, 62, 21, 93, 20, 22, 15, 42, 44, 25, 89, 85,\n",
       "       50, 30, 52, 38, 68, 31, 65, 71, 75, 14,  7, 84, 51, 27, 98])"
      ]
     },
     "execution_count": 106,
     "metadata": {},
     "output_type": "execute_result"
    }
   ],
   "source": [
    "modelRFE.ranking_"
   ]
  },
  {
   "cell_type": "code",
   "execution_count": 107,
   "id": "d4080028-4e37-4c65-bd38-d23c21265735",
   "metadata": {},
   "outputs": [
    {
     "data": {
      "text/plain": [
       "2"
      ]
     },
     "execution_count": 107,
     "metadata": {},
     "output_type": "execute_result"
    }
   ],
   "source": [
    "modelRFE.n_features_"
   ]
  },
  {
   "cell_type": "code",
   "execution_count": null,
   "id": "919ae5e6-8538-4827-9c45-47d94aa58375",
   "metadata": {},
   "outputs": [],
   "source": []
  }
 ],
 "metadata": {
  "kernelspec": {
   "display_name": "Python 3 (ipykernel)",
   "language": "python",
   "name": "python3"
  },
  "language_info": {
   "codemirror_mode": {
    "name": "ipython",
    "version": 3
   },
   "file_extension": ".py",
   "mimetype": "text/x-python",
   "name": "python",
   "nbconvert_exporter": "python",
   "pygments_lexer": "ipython3",
   "version": "3.9.7"
  }
 },
 "nbformat": 4,
 "nbformat_minor": 5
}
