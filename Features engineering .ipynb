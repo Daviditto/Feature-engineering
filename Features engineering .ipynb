{
 "cells": [
  {
   "cell_type": "markdown",
   "id": "63e4c7c1-327f-450a-b2a7-97f7363e150d",
   "metadata": {},
   "source": [
    "# Feature Engineering"
   ]
  },
  {
   "cell_type": "markdown",
   "id": "af6acd80-01f6-47f1-83b1-0c85c7f9c6f5",
   "metadata": {
    "tags": []
   },
   "source": [
    "## Categorical Features"
   ]
  },
  {
   "cell_type": "markdown",
   "id": "9b397f77-ac5a-428d-9e54-41c133402ce5",
   "metadata": {},
   "source": [
    "### Dictvectorizer"
   ]
  },
  {
   "cell_type": "code",
   "execution_count": 2,
   "id": "23079c03-ac17-4029-8078-1a5a4531d308",
   "metadata": {},
   "outputs": [],
   "source": [
    "Data = [\n",
    "    {'price':850000, 'room':4, 'neighborhood':'Queen Anne'}, \n",
    "    {'price':790000, 'room':3, 'neighborhood':'Fremont'},\n",
    "    {'price':650000, 'room':3, 'neighborhood':'Wallingford'},\n",
    "    {'price':600000, 'room':2, 'neighborhood':'Fremont'},\n",
    "]"
   ]
  },
  {
   "cell_type": "code",
   "execution_count": 3,
   "id": "775b5e55-1b9b-4129-99df-fbd2b1662732",
   "metadata": {},
   "outputs": [],
   "source": [
    "from sklearn.feature_extraction import DictVectorizer"
   ]
  },
  {
   "cell_type": "code",
   "execution_count": 4,
   "id": "e160d041-d5c0-4a8c-802c-e4b3c9ce644c",
   "metadata": {},
   "outputs": [
    {
     "data": {
      "text/plain": [
       "array([[     0,      1,      0, 850000,      4],\n",
       "       [     1,      0,      0, 790000,      3],\n",
       "       [     0,      0,      1, 650000,      3],\n",
       "       [     1,      0,      0, 600000,      2]])"
      ]
     },
     "execution_count": 4,
     "metadata": {},
     "output_type": "execute_result"
    }
   ],
   "source": [
    "Vec = DictVectorizer(sparse=False, dtype=int)\n",
    "Vec.fit_transform(Data)\n"
   ]
  },
  {
   "cell_type": "code",
   "execution_count": 5,
   "id": "637f993d-fd4c-4e24-932a-13bd681027ca",
   "metadata": {},
   "outputs": [
    {
     "data": {
      "text/plain": [
       "['neighborhood=Fremont',\n",
       " 'neighborhood=Queen Anne',\n",
       " 'neighborhood=Wallingford',\n",
       " 'price',\n",
       " 'room']"
      ]
     },
     "execution_count": 5,
     "metadata": {},
     "output_type": "execute_result"
    }
   ],
   "source": [
    "Vec.get_feature_names()"
   ]
  },
  {
   "cell_type": "markdown",
   "id": "a24e333f-0827-4363-8330-49a2e6c5ad51",
   "metadata": {},
   "source": [
    "### Text Vectorizer"
   ]
  },
  {
   "cell_type": "code",
   "execution_count": 6,
   "id": "726ca802-f687-48de-b772-563c0108466c",
   "metadata": {},
   "outputs": [],
   "source": [
    "from sklearn.feature_extraction.text import CountVectorizer\n",
    "import pandas as pd"
   ]
  },
  {
   "cell_type": "code",
   "execution_count": 7,
   "id": "69ce69bc-75fd-4834-ab14-7fd6e910d2e5",
   "metadata": {},
   "outputs": [],
   "source": [
    "data = ['problem of evil', 'evil queen', 'horizon problem']"
   ]
  },
  {
   "cell_type": "code",
   "execution_count": 8,
   "id": "a829159f-ddf3-43bf-83f2-2b0ba845376e",
   "metadata": {},
   "outputs": [
    {
     "data": {
      "text/html": [
       "<div>\n",
       "<style scoped>\n",
       "    .dataframe tbody tr th:only-of-type {\n",
       "        vertical-align: middle;\n",
       "    }\n",
       "\n",
       "    .dataframe tbody tr th {\n",
       "        vertical-align: top;\n",
       "    }\n",
       "\n",
       "    .dataframe thead th {\n",
       "        text-align: right;\n",
       "    }\n",
       "</style>\n",
       "<table border=\"1\" class=\"dataframe\">\n",
       "  <thead>\n",
       "    <tr style=\"text-align: right;\">\n",
       "      <th></th>\n",
       "      <th>evil</th>\n",
       "      <th>horizon</th>\n",
       "      <th>of</th>\n",
       "      <th>problem</th>\n",
       "      <th>queen</th>\n",
       "    </tr>\n",
       "  </thead>\n",
       "  <tbody>\n",
       "    <tr>\n",
       "      <th>0</th>\n",
       "      <td>1</td>\n",
       "      <td>0</td>\n",
       "      <td>1</td>\n",
       "      <td>1</td>\n",
       "      <td>0</td>\n",
       "    </tr>\n",
       "    <tr>\n",
       "      <th>1</th>\n",
       "      <td>1</td>\n",
       "      <td>0</td>\n",
       "      <td>0</td>\n",
       "      <td>0</td>\n",
       "      <td>1</td>\n",
       "    </tr>\n",
       "    <tr>\n",
       "      <th>2</th>\n",
       "      <td>0</td>\n",
       "      <td>1</td>\n",
       "      <td>0</td>\n",
       "      <td>1</td>\n",
       "      <td>0</td>\n",
       "    </tr>\n",
       "  </tbody>\n",
       "</table>\n",
       "</div>"
      ],
      "text/plain": [
       "   evil  horizon  of  problem  queen\n",
       "0     1        0   1        1      0\n",
       "1     1        0   0        0      1\n",
       "2     0        1   0        1      0"
      ]
     },
     "execution_count": 8,
     "metadata": {},
     "output_type": "execute_result"
    }
   ],
   "source": [
    "vec = CountVectorizer()\n",
    "X = vec.fit_transform(data)\n",
    "pd.DataFrame(X.toarray(), columns= vec.get_feature_names())"
   ]
  },
  {
   "cell_type": "code",
   "execution_count": 9,
   "id": "4fbf5263-3d08-4b2d-881b-a0730d4f8d4b",
   "metadata": {},
   "outputs": [],
   "source": [
    "from sklearn.feature_extraction.text import TfidfVectorizer"
   ]
  },
  {
   "cell_type": "code",
   "execution_count": 10,
   "id": "74d09d43-72ab-495b-9f30-74d5a5b2d7de",
   "metadata": {},
   "outputs": [
    {
     "data": {
      "text/html": [
       "<div>\n",
       "<style scoped>\n",
       "    .dataframe tbody tr th:only-of-type {\n",
       "        vertical-align: middle;\n",
       "    }\n",
       "\n",
       "    .dataframe tbody tr th {\n",
       "        vertical-align: top;\n",
       "    }\n",
       "\n",
       "    .dataframe thead th {\n",
       "        text-align: right;\n",
       "    }\n",
       "</style>\n",
       "<table border=\"1\" class=\"dataframe\">\n",
       "  <thead>\n",
       "    <tr style=\"text-align: right;\">\n",
       "      <th></th>\n",
       "      <th>evil</th>\n",
       "      <th>horizon</th>\n",
       "      <th>of</th>\n",
       "      <th>problem</th>\n",
       "      <th>queen</th>\n",
       "    </tr>\n",
       "  </thead>\n",
       "  <tbody>\n",
       "    <tr>\n",
       "      <th>0</th>\n",
       "      <td>0.517856</td>\n",
       "      <td>0.000000</td>\n",
       "      <td>0.680919</td>\n",
       "      <td>0.517856</td>\n",
       "      <td>0.000000</td>\n",
       "    </tr>\n",
       "    <tr>\n",
       "      <th>1</th>\n",
       "      <td>0.605349</td>\n",
       "      <td>0.000000</td>\n",
       "      <td>0.000000</td>\n",
       "      <td>0.000000</td>\n",
       "      <td>0.795961</td>\n",
       "    </tr>\n",
       "    <tr>\n",
       "      <th>2</th>\n",
       "      <td>0.000000</td>\n",
       "      <td>0.795961</td>\n",
       "      <td>0.000000</td>\n",
       "      <td>0.605349</td>\n",
       "      <td>0.000000</td>\n",
       "    </tr>\n",
       "  </tbody>\n",
       "</table>\n",
       "</div>"
      ],
      "text/plain": [
       "       evil   horizon        of   problem     queen\n",
       "0  0.517856  0.000000  0.680919  0.517856  0.000000\n",
       "1  0.605349  0.000000  0.000000  0.000000  0.795961\n",
       "2  0.000000  0.795961  0.000000  0.605349  0.000000"
      ]
     },
     "execution_count": 10,
     "metadata": {},
     "output_type": "execute_result"
    }
   ],
   "source": [
    "vec2 = TfidfVectorizer()\n",
    "X2 = vec2.fit_transform(data)\n",
    "pd.DataFrame(X2.toarray(), columns= vec2.get_feature_names())"
   ]
  },
  {
   "cell_type": "markdown",
   "id": "810f2417-2de1-416f-9a4a-77c9d7da84b0",
   "metadata": {},
   "source": [
    "### figure Vectorizer"
   ]
  },
  {
   "cell_type": "code",
   "execution_count": 11,
   "id": "1da20dcf-b331-45df-9e57-3bb41f8b66a0",
   "metadata": {},
   "outputs": [],
   "source": [
    "from matplotlib import pyplot as plt\n",
    "%matplotlib inline\n",
    "import numpy as np"
   ]
  },
  {
   "cell_type": "code",
   "execution_count": 59,
   "id": "fa1e2e5f-6e5c-4610-a82d-87492cfa6696",
   "metadata": {},
   "outputs": [
    {
     "data": {
      "text/plain": [
       "[<matplotlib.lines.Line2D at 0x7f898c1ff9d0>]"
      ]
     },
     "execution_count": 59,
     "metadata": {},
     "output_type": "execute_result"
    },
    {
     "data": {
      "image/png": "[encoded data removed]",
      "text/plain": [
       "<Figure size 432x288 with 1 Axes>"
      ]
     },
     "metadata": {
      "needs_background": "light"
     },
     "output_type": "display_data"
    }
   ],
   "source": [
    "x = np.array([1, 2, 3, 4, 5])\n",
    "y = np.array([4, 2, 1, 3, 7])\n",
    "plt.scatter(x,y, facecolor='red', linewidth=2, edgecolor='grey', alpha=0.5)\n",
    "\n",
    "from sklearn.linear_model import LinearRegression\n",
    "model = LinearRegression()\n",
    "y_model = model.fit(x[:, None], y).predict(x[:, None])\n",
    "plt.plot(x, y_model)"
   ]
  },
  {
   "cell_type": "code",
   "execution_count": 60,
   "id": "132b653a-8fe0-4458-972e-982ea95cb33e",
   "metadata": {},
   "outputs": [],
   "source": [
    "from sklearn.preprocessing import PolynomialFeatures"
   ]
  },
  {
   "cell_type": "code",
   "execution_count": 61,
   "id": "6e752747-81c1-4fff-86b2-cce1e481a891",
   "metadata": {},
   "outputs": [],
   "source": [
    "poly = PolynomialFeatures(degree=4, include_bias=False)\n",
    "x_transform = poly.fit_transform(x[:, None]) # input is a 2-dimentional array as the feature array\n"
   ]
  },
  {
   "cell_type": "code",
   "execution_count": 62,
   "id": "6a3e06fe-adf9-4bd4-9901-5fc08ecc5d37",
   "metadata": {},
   "outputs": [
    {
     "data": {
      "text/plain": [
       "[<matplotlib.lines.Line2D at 0x7f898c2b4fa0>]"
      ]
     },
     "execution_count": 62,
     "metadata": {},
     "output_type": "execute_result"
    },
    {
     "data": {
      "image/png": "[encoded data removed]",
      "text/plain": [
       "<Figure size 432x288 with 1 Axes>"
      ]
     },
     "metadata": {
      "needs_background": "light"
     },
     "output_type": "display_data"
    }
   ],
   "source": [
    "model2= model.fit(x_transform, y)\n",
    "yfit = model2.predict(x_transform)\n",
    "plt.scatter(x, y)\n",
    "plt.plot(x, yfit)"
   ]
  },
  {
   "cell_type": "code",
   "execution_count": 65,
   "id": "4791cd26-f98c-462f-a1bf-19f5adc290cc",
   "metadata": {},
   "outputs": [],
   "source": [
    "modelbest = make_pipeline(PolynomialFeatures(degree=4), LinearRegression())"
   ]
  },
  {
   "cell_type": "code",
   "execution_count": 70,
   "id": "c4cd29ef-e371-44e4-8bd2-86ee25e1a33c",
   "metadata": {},
   "outputs": [
    {
     "data": {
      "text/plain": [
       "[<matplotlib.lines.Line2D at 0x7f898c507d30>]"
      ]
     },
     "execution_count": 70,
     "metadata": {},
     "output_type": "execute_result"
    },
    {
     "data": {
      "image/png": "[encoded data removed]",
      "text/plain": [
       "<Figure size 432x288 with 1 Axes>"
      ]
     },
     "metadata": {
      "needs_background": "light"
     },
     "output_type": "display_data"
    }
   ],
   "source": [
    "y_ = modelbest.fit(x[:, None], y).predict(x[:, None])\n",
    "plt.scatter(x,y)\n",
    "plt.plot(x,y_)"
   ]
  },
  {
   "cell_type": "code",
   "execution_count": null,
   "id": "cdff5aef-fd2f-496a-925e-a7a72b636da3",
   "metadata": {},
   "outputs": [],
   "source": []
  },
  {
   "cell_type": "markdown",
   "id": "f9be8a60-0414-42bb-9789-5f44ceeafb99",
   "metadata": {},
   "source": [
    "## Imputation of Missing Data"
   ]
  },
  {
   "cell_type": "code",
   "execution_count": 79,
   "id": "c41b4aa4-4690-43f3-9620-8e910a30e95d",
   "metadata": {},
   "outputs": [],
   "source": [
    "from numpy import nan\n",
    "\n",
    "X_missing= np.array([[ nan, 0, 3], \n",
    "                     [ 3, 7, 9], \n",
    "                     [ 3, 5, 2], \n",
    "                    [4, nan, 6 ],\n",
    "                     [ 8, 8, 1]])\n",
    "\n",
    "y = np.array([14, 16, -1, 8, -5])"
   ]
  },
  {
   "cell_type": "code",
   "execution_count": 80,
   "id": "a68087cb-bcde-454d-a81e-5638a26d0270",
   "metadata": {},
   "outputs": [],
   "source": [
    "from sklearn.impute import SimpleImputer"
   ]
  },
  {
   "cell_type": "code",
   "execution_count": 81,
   "id": "81382e67-00e7-465f-8918-f4225de9d9b5",
   "metadata": {},
   "outputs": [],
   "source": [
    "imp = SimpleImputer(strategy = 'most_frequent')"
   ]
  },
  {
   "cell_type": "code",
   "execution_count": 84,
   "id": "83de3b96-d99b-453d-a452-ee89fea826da",
   "metadata": {},
   "outputs": [],
   "source": [
    "X3 = imp.fit_transform(X_missing)"
   ]
  },
  {
   "cell_type": "code",
   "execution_count": null,
   "id": "7e3d6233-730b-4977-a33d-c6601e497ca8",
   "metadata": {},
   "outputs": [],
   "source": []
  },
  {
   "cell_type": "code",
   "execution_count": 85,
   "id": "7ef05744-6685-4483-8500-7cac19431ec2",
   "metadata": {},
   "outputs": [
    {
     "name": "stdout",
     "output_type": "stream",
     "text": [
      "[[3. 0. 3.]\n",
      " [3. 7. 9.]\n",
      " [3. 5. 2.]\n",
      " [4. 0. 6.]\n",
      " [8. 8. 1.]]\n"
     ]
    }
   ],
   "source": [
    "model = LinearRegression()\n",
    "print(X3)"
   ]
  },
  {
   "cell_type": "code",
   "execution_count": 87,
   "id": "502f98a7-80c8-474e-bfd2-107fca5fe3cb",
   "metadata": {},
   "outputs": [
    {
     "data": {
      "text/plain": [
       "array([ 8.21123945, 14.1271657 ,  3.06186139, 12.49966681, -5.89993336])"
      ]
     },
     "execution_count": 87,
     "metadata": {},
     "output_type": "execute_result"
    }
   ],
   "source": [
    "model.fit(X3,y).predict(X3)"
   ]
  },
  {
   "cell_type": "markdown",
   "id": "ea9e43fc-2e3b-4764-b6cf-4e470e9d10b1",
   "metadata": {
    "tags": []
   },
   "source": [
    "## Feature Pipelines"
   ]
  },
  {
   "cell_type": "code",
   "execution_count": 64,
   "id": "b31b05c1-0ac3-44e8-a8dc-177d712bedc7",
   "metadata": {},
   "outputs": [],
   "source": [
    "from sklearn.pipeline import make_pipeline"
   ]
  },
  {
   "cell_type": "code",
   "execution_count": 84,
   "id": "1ce2fb4d-0a9e-4307-9428-a19af7126854",
   "metadata": {},
   "outputs": [],
   "source": [
    "model = make_pipeline(SimpleImputer(strategy = 'mean'),\n",
    "                      PolynomialFeatures(degree=2),\n",
    "                      LinearRegression())"
   ]
  },
  {
   "cell_type": "code",
   "execution_count": 85,
   "id": "f2e49362-b128-4542-beb6-c177c5881686",
   "metadata": {},
   "outputs": [],
   "source": [
    "y_model = model.fit(X_missing, y).predict(X3)"
   ]
  },
  {
   "cell_type": "code",
   "execution_count": 86,
   "id": "6d4181f6-f657-4aae-acc4-c4550f7ea042",
   "metadata": {},
   "outputs": [
    {
     "data": {
      "text/plain": [
       "array([14., 16., -1.,  8., -5.])"
      ]
     },
     "execution_count": 86,
     "metadata": {},
     "output_type": "execute_result"
    }
   ],
   "source": [
    "y_model"
   ]
  },
  {
   "cell_type": "code",
   "execution_count": null,
   "id": "2e976f3c-c1ca-45ea-a800-e2c20473578d",
   "metadata": {},
   "outputs": [],
   "source": []
  }
 ],
 "metadata": {
  "kernelspec": {
   "display_name": "Python 3 (ipykernel)",
   "language": "python",
   "name": "python3"
  },
  "language_info": {
   "codemirror_mode": {
    "name": "ipython",
    "version": 3
   },
   "file_extension": ".py",
   "mimetype": "text/x-python",
   "name": "python",
   "nbconvert_exporter": "python",
   "pygments_lexer": "ipython3",
   "version": "3.9.7"
  }
 },
 "nbformat": 4,
 "nbformat_minor": 5
}
